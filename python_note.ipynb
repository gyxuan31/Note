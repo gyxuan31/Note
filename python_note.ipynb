{
  "cells": [
    {
      "cell_type": "markdown",
      "id": "cf6adb0a",
      "metadata": {},
      "source": [
        "### List 列表"
      ]
    },
    {
      "cell_type": "code",
      "execution_count": 5,
      "id": "6a7a5448",
      "metadata": {},
      "outputs": [
        {
          "data": {
            "text/plain": [
              "[5, 4, 3, 2, 1]"
            ]
          },
          "execution_count": 5,
          "metadata": {},
          "output_type": "execute_result"
        }
      ],
      "source": [
        "# 翻转数组\n",
        "val = [1, 2, 3, 4, 5]\n",
        "val = val[::-1]\n",
        "val"
      ]
    },
    {
      "cell_type": "code",
      "execution_count": 6,
      "id": "9c8a5e6b",
      "metadata": {},
      "outputs": [
        {
          "name": "stdout",
          "output_type": "stream",
          "text": [
            "[2]\n",
            "[1, 2]\n"
          ]
        }
      ],
      "source": [
        "# 切片：左闭右开\n",
        "p = [1, 2, 3, 4, 5]\n",
        "a = p[1:2]\n",
        "b = p[:2]\n",
        "print(a)\n",
        "print(b)"
      ]
    },
    {
      "cell_type": "code",
      "execution_count": 7,
      "id": "6d464fcb",
      "metadata": {},
      "outputs": [],
      "source": [
        "# 切片是深拷贝！\n",
        "p = [1, 2, 3, 4, 5]\n",
        "s = p[:]\n",
        "p[0] = 1\n",
        "s\n",
        "p[:] = p[:] # 修改整个列表需要加[:]!"
      ]
    },
    {
      "cell_type": "code",
      "execution_count": 8,
      "id": "5ee1d6cf",
      "metadata": {},
      "outputs": [
        {
          "name": "stdout",
          "output_type": "stream",
          "text": [
            "After append(10): [10]\n",
            "After insert(0, 5): [5, 10]\n",
            "After extend([15, 20, 25]): [5, 10, 15, 20, 25]\n",
            "[5, 10, 15, 20, 25, 1]\n"
          ]
        }
      ],
      "source": [
        "# Initialize an empty list\n",
        "a = []\n",
        "b = [1,2,3]\n",
        "\n",
        "# Adding 10 to end of list\n",
        "a.append(10)  \n",
        "print(\"After append(10):\", a)  \n",
        "\n",
        "# Inserting 5 at index 0\n",
        "a.insert(0, 5)\n",
        "print(\"After insert(0, 5):\", a) \n",
        "\n",
        "# Adding multiple elements  [15, 20, 25] at the end\n",
        "a.extend([15, 20, 25])  \n",
        "print(\"After extend([15, 20, 25]):\", a)\n",
        "a.extend(b[:1])\n",
        "print(a)\n",
        "\n",
        "a.sort()"
      ]
    },
    {
      "cell_type": "code",
      "execution_count": 62,
      "id": "33834bf2",
      "metadata": {},
      "outputs": [
        {
          "name": "stdout",
          "output_type": "stream",
          "text": [
            "['a', 'b', 'c', 'e']\n"
          ]
        }
      ],
      "source": [
        "a = ['a', 'b', 'e', 'c']\n",
        "a.sort()\n",
        "print(a)"
      ]
    },
    {
      "cell_type": "markdown",
      "id": "089f404d",
      "metadata": {},
      "source": [
        "### String 字符串"
      ]
    },
    {
      "cell_type": "code",
      "execution_count": 9,
      "id": "b1b63ec4",
      "metadata": {},
      "outputs": [
        {
          "name": "stdout",
          "output_type": "stream",
          "text": [
            "I am Learning\n",
            "Python String on GeeksforGeeks\n",
            "I'm a \n",
            "Geek\n"
          ]
        }
      ],
      "source": [
        "# If we need a string to span multiple lines then we can use triple quotes (''' or \"\"\").\n",
        "\n",
        "s = \"\"\"I am Learning\n",
        "Python String on GeeksforGeeks\"\"\"\n",
        "print(s)\n",
        "\n",
        "s = '''I'm a \n",
        "Geek'''\n",
        "print(s)"
      ]
    },
    {
      "cell_type": "code",
      "execution_count": 10,
      "id": "987ed405",
      "metadata": {},
      "outputs": [
        {
          "name": "stdout",
          "output_type": "stream",
          "text": [
            "skeeGrofskeeG\n"
          ]
        }
      ],
      "source": [
        "s = \"GeeksforGeeks\"\n",
        "\n",
        "# Reverse a string\n",
        "print(s[::-1])"
      ]
    },
    {
      "cell_type": "code",
      "execution_count": 11,
      "id": "190f260c",
      "metadata": {},
      "outputs": [
        {
          "name": "stdout",
          "output_type": "stream",
          "text": [
            "GeeksforGeeks\n"
          ]
        }
      ],
      "source": [
        "# Immutability\n",
        "s = \"geeksforGeeks\"\n",
        "\n",
        "# Trying to change the first character raises an error\n",
        "# s[0] = 'I'  # Uncommenting this line will cause a TypeError\n",
        "\n",
        "# Instead, create a new string\n",
        "# string没有append!\n",
        "s = \"G\" + s[1:]\n",
        "print(s)"
      ]
    },
    {
      "cell_type": "code",
      "execution_count": 12,
      "id": "8c04c7e6",
      "metadata": {},
      "outputs": [
        {
          "name": "stdout",
          "output_type": "stream",
          "text": [
            "Hello geeks\n",
            "hello GeeksforGeeks\n"
          ]
        }
      ],
      "source": [
        "# Update - replace()\n",
        "s = \"hello geeks\"\n",
        "\n",
        "# Updating by creating a new string\n",
        "s1 = \"H\" + s[1:]\n",
        "\n",
        "# replacnig \"geeks\" with \"GeeksforGeeks\"\n",
        "s2 = s.replace(\"geeks\", \"GeeksforGeeks\")\n",
        "print(s1)\n",
        "print(s2)"
      ]
    },
    {
      "cell_type": "code",
      "execution_count": 13,
      "id": "87c1021a",
      "metadata": {},
      "outputs": [
        {
          "name": "stdout",
          "output_type": "stream",
          "text": [
            "HELLO WORLD\n",
            "hello world\n"
          ]
        }
      ],
      "source": [
        "# Upper and Lower\n",
        "s = \"Hello World\"\n",
        "\n",
        "print(s.upper())   # output: HELLO WORLD\n",
        "print(s.lower())   # output: hello world"
      ]
    },
    {
      "cell_type": "code",
      "execution_count": 1,
      "id": "0dcc833d",
      "metadata": {},
      "outputs": [
        {
          "name": "stdout",
          "output_type": "stream",
          "text": [
            "Gfg\n",
            "hello world\n",
            "hello\n"
          ]
        }
      ],
      "source": [
        "# strip()\n",
        "s = \"   Gfg   \"\n",
        "\n",
        "# Removes spaces from both ends\n",
        "print(s.strip())    \n",
        "\n",
        "# 加入参数可以去掉固定字符\n",
        "line = \"   hello world  \\n\"\n",
        "print(line.strip())    # \"hello world\"\n",
        "print(\"xxhelloxx\".strip(\"x\"))  # \"hello\"\n"
      ]
    },
    {
      "cell_type": "code",
      "execution_count": 15,
      "id": "efad36c8",
      "metadata": {},
      "outputs": [
        {
          "name": "stdout",
          "output_type": "stream",
          "text": [
            "Hello World\n",
            "Hello Hello Hello \n"
          ]
        }
      ],
      "source": [
        "# Concatenating and Repeating Strings\n",
        "s1 = \"Hello\"\n",
        "s2 = \"World\"\n",
        "s3 = s1 + \" \" + s2\n",
        "print(s3)\n",
        "\n",
        "s4 = \"Hello \"\n",
        "print(s4 * 3)"
      ]
    },
    {
      "cell_type": "code",
      "execution_count": 16,
      "id": "7aab50e7",
      "metadata": {},
      "outputs": [
        {
          "name": "stdout",
          "output_type": "stream",
          "text": [
            "Name: Alice, Age: 22\n"
          ]
        }
      ],
      "source": [
        "# f-strings\n",
        "name = \"Alice\"\n",
        "age = 22\n",
        "print(f\"Name: {name}, Age: {age}\")"
      ]
    },
    {
      "cell_type": "code",
      "execution_count": 17,
      "id": "b19cdcc8",
      "metadata": {},
      "outputs": [
        {
          "name": "stdout",
          "output_type": "stream",
          "text": [
            "True\n",
            "False\n"
          ]
        }
      ],
      "source": [
        "# in\n",
        "s = \"GeeksforGeeks\"\n",
        "print(\"Geeks\" in s)\n",
        "print(\"GfG\" in s)"
      ]
    },
    {
      "cell_type": "code",
      "execution_count": 68,
      "id": "ea35a812",
      "metadata": {},
      "outputs": [
        {
          "name": "stdout",
          "output_type": "stream",
          "text": [
            "I love Python\n",
            "<class 'str'>\n",
            "3\n"
          ]
        }
      ],
      "source": [
        "# 数据类型转换\n",
        "\n",
        "# list -> str\n",
        "words = [\"I\", \"love\", \"Python\"]\n",
        "sentence = \" \".join(words)\n",
        "print(sentence)   # I love Python\n",
        "print(type(sentence))\n",
        "\n",
        "# str -> str\n",
        "s = \"bac\"\n",
        "a = list(s)\n",
        "print(len(s))"
      ]
    },
    {
      "cell_type": "markdown",
      "id": "7d630849",
      "metadata": {},
      "source": [
        "### map  \n",
        "对iterable对象（列表，字符串，range等）的每个元素进行处理"
      ]
    },
    {
      "cell_type": "code",
      "execution_count": null,
      "id": "fa2462ea",
      "metadata": {},
      "outputs": [
        {
          "name": "stdout",
          "output_type": "stream",
          "text": [
            "[1, 2, 3]\n"
          ]
        }
      ],
      "source": [
        "# string -> int\n",
        "nums = [\"1\", \"2\", \"3\"]\n",
        "result = list(map(int, nums))\n",
        "print(result)   # [1, 2, 3]"
      ]
    },
    {
      "cell_type": "code",
      "execution_count": null,
      "id": "9a52849b",
      "metadata": {},
      "outputs": [],
      "source": [
        "# 对每个元素求平方\n",
        "nums = [1, 2, 3, 4]\n",
        "result = list(map(lambda x: x**2, nums))\n",
        "print(result)   # [1, 4, 9, 16]"
      ]
    },
    {
      "cell_type": "markdown",
      "id": "3bbce419",
      "metadata": {},
      "source": [
        "### Deque 队列（右进左出 先进先出）"
      ]
    },
    {
      "cell_type": "code",
      "execution_count": 18,
      "metadata": {},
      "outputs": [],
      "source": [
        "from collections import deque\n",
        "dq = deque([10, 20, 30])"
      ]
    },
    {
      "cell_type": "code",
      "execution_count": 19,
      "metadata": {},
      "outputs": [
        {
          "data": {
            "text/plain": [
              "deque([10, 20, 30, 40])"
            ]
          },
          "execution_count": 19,
          "metadata": {},
          "output_type": "execute_result"
        }
      ],
      "source": [
        "# Add elements to the right\n",
        "a = dq.append(40)\n",
        "dq"
      ]
    },
    {
      "cell_type": "code",
      "execution_count": 20,
      "metadata": {},
      "outputs": [
        {
          "data": {
            "text/plain": [
              "deque([5, 10, 20, 30, 40])"
            ]
          },
          "execution_count": 20,
          "metadata": {},
          "output_type": "execute_result"
        }
      ],
      "source": [
        "# Add elements to the left\n",
        "dq.appendleft(5)\n",
        "dq  "
      ]
    },
    {
      "cell_type": "code",
      "execution_count": 21,
      "metadata": {},
      "outputs": [
        {
          "name": "stdout",
          "output_type": "stream",
          "text": [
            "After extend([50, 60, 70]): deque([5, 10, 20, 30, 40, 50, 60, 70])\n"
          ]
        }
      ],
      "source": [
        "# extend(iterable) Adds all elements from iterable to the right end of the deque.\n",
        "dq.extend([50, 60, 70]) \n",
        "print(\"After extend([50, 60, 70]):\", dq)"
      ]
    },
    {
      "cell_type": "code",
      "execution_count": 22,
      "metadata": {},
      "outputs": [
        {
          "name": "stdout",
          "output_type": "stream",
          "text": [
            "After extendleft([0, 5]): deque([5, 0, 5, 10, 20, 30, 40, 50, 60, 70])\n"
          ]
        }
      ],
      "source": [
        "# extendleft(iterable) (reversed order)\n",
        "dq.extendleft([0, 5])  \n",
        "print(\"After extendleft([0, 5]):\", dq)"
      ]
    },
    {
      "cell_type": "code",
      "execution_count": 23,
      "metadata": {},
      "outputs": [
        {
          "name": "stdout",
          "output_type": "stream",
          "text": [
            "After remove(20): deque([5, 0, 5, 10, 30, 40, 50, 60, 70])\n"
          ]
        }
      ],
      "source": [
        "# remove method\n",
        "dq.remove(20)\n",
        "print(\"After remove(20):\", dq)"
      ]
    },
    {
      "cell_type": "code",
      "execution_count": 24,
      "metadata": {},
      "outputs": [
        {
          "name": "stdout",
          "output_type": "stream",
          "text": [
            "deque([5, 0, 5, 10, 30, 40, 50, 60])\n",
            "70\n"
          ]
        }
      ],
      "source": [
        "# Remove elements from the right\n",
        "a = dq.pop()\n",
        "print(dq)\n",
        "print(a)"
      ]
    },
    {
      "cell_type": "code",
      "execution_count": 25,
      "metadata": {},
      "outputs": [
        {
          "name": "stdout",
          "output_type": "stream",
          "text": [
            "5\n",
            "After pop and popleft: deque([0, 5, 10, 30, 40, 50, 60])\n"
          ]
        }
      ],
      "source": [
        "# Remove elements from the left\n",
        "a = dq.popleft()  \n",
        "print(a)\n",
        "print(\"After pop and popleft:\", dq)"
      ]
    },
    {
      "cell_type": "code",
      "execution_count": 26,
      "metadata": {},
      "outputs": [
        {
          "name": "stdout",
          "output_type": "stream",
          "text": [
            "After clear(): deque([])\n"
          ]
        }
      ],
      "source": [
        "# clear() - Removes all elements from the deque\n",
        "dq.clear()  # deque: []\n",
        "print(\"After clear():\", dq)"
      ]
    },
    {
      "cell_type": "markdown",
      "id": "237357c5",
      "metadata": {},
      "source": [
        "### Set 集合\n",
        "set() function in Python is used to create a set, which is an *unordered* collection of unique elements. Sets are *mutable*, meaning elements can be added or removed after creation. However, all elements inside a set must be *immutable*, such as numbers, strings or tuples. The set() function can take an iterable (like a list, tuple or dictionary) as input, removing duplicates automatically. Sets support various operations such as union, intersection and difference, making them useful for mathematical computations and data processing."
      ]
    },
    {
      "cell_type": "code",
      "execution_count": 27,
      "id": "ed0bfb96",
      "metadata": {},
      "outputs": [
        {
          "name": "stdout",
          "output_type": "stream",
          "text": [
            "set()\n",
            "<class 'set'>\n",
            "{1, 2, 3, 4, 5}\n",
            "{1, 2, 3, 4, 5}\n",
            "{0, 1, 2, 3, 4, 5, 6, 7, 8, 9, 10}\n",
            "{'a', 'c', 'b'}\n"
          ]
        }
      ],
      "source": [
        "# Create\n",
        "a = set() # empty\n",
        "print(a)  \n",
        "print(type(a))\n",
        "\n",
        "b = [1, 2, 3, 4, 2, 3, 5]\n",
        "b1 = set(b)\n",
        "print(b1)\n",
        "\n",
        "tup = (1, 2, 3, 4, 2, 3, 5)\n",
        "c = set(tup)\n",
        "print(c)\n",
        "\n",
        "d = set(range(0, 11))  \n",
        "print(d)\n",
        "\n",
        "dic = {'a': 1, 'b': 2, 'c': 3}\n",
        "e = set(dic) # only the keys are stored in the set\n",
        "print(e)"
      ]
    },
    {
      "cell_type": "code",
      "execution_count": 28,
      "id": "d3533b89",
      "metadata": {},
      "outputs": [
        {
          "name": "stdout",
          "output_type": "stream",
          "text": [
            "banana\n",
            "cherry\n",
            "apple\n"
          ]
        }
      ],
      "source": [
        "thisset = {\"apple\", \"banana\", \"cherry\"}\n",
        "\n",
        "for x in thisset:\n",
        "  print(x)"
      ]
    },
    {
      "cell_type": "code",
      "execution_count": 29,
      "id": "b7f00123",
      "metadata": {},
      "outputs": [
        {
          "name": "stdout",
          "output_type": "stream",
          "text": [
            "True\n",
            "False\n"
          ]
        }
      ],
      "source": [
        "# Check if \"banana\" is present\n",
        "thisset = {\"apple\", \"banana\", \"cherry\"}\n",
        "\n",
        "print(\"banana\" in thisset)\n",
        "print(\"banana\" not in thisset)"
      ]
    },
    {
      "cell_type": "code",
      "execution_count": 30,
      "id": "51d6f6f7",
      "metadata": {},
      "outputs": [
        {
          "name": "stdout",
          "output_type": "stream",
          "text": [
            "{'banana', 'orange', 'cherry', 'apple'}\n"
          ]
        }
      ],
      "source": [
        "# Add items\n",
        "thisset = {\"apple\", \"banana\", \"cherry\"}\n",
        "thisset.add(\"orange\")\n",
        "print(thisset)\n"
      ]
    },
    {
      "cell_type": "code",
      "execution_count": 31,
      "id": "7b3af0aa",
      "metadata": {},
      "outputs": [
        {
          "name": "stdout",
          "output_type": "stream",
          "text": [
            "{'banana', 'apple', 'pineapple', 'cherry', 'papaya', 'mango'}\n",
            "{'banana', 'apple', 'pineapple', 'kiwi', 'cherry', 'orange', 'papaya', 'mango'}\n"
          ]
        }
      ],
      "source": [
        "# Add sets (any iterable) - Add elements from tropical into thisset:\n",
        "thisset = {\"apple\", \"banana\", \"cherry\"}\n",
        "tropical = {\"pineapple\", \"mango\", \"papaya\"}\n",
        "\n",
        "thisset.update(tropical)\n",
        "print(thisset)\n",
        "\n",
        "mylist = [\"kiwi\", \"orange\"]\n",
        "thisset.update(mylist)\n",
        "print(thisset)"
      ]
    },
    {
      "cell_type": "code",
      "execution_count": 32,
      "id": "f50f2c29",
      "metadata": {},
      "outputs": [
        {
          "name": "stdout",
          "output_type": "stream",
          "text": [
            "{'cherry', 'apple'}\n",
            "{'cherry', 'apple'}\n",
            "banana\n",
            "{'cherry', 'apple'}\n",
            "set()\n"
          ]
        }
      ],
      "source": [
        "# Remove Item\n",
        "thisset = {\"apple\", \"banana\", \"cherry\"}\n",
        "\n",
        "thisset.remove(\"banana\")\n",
        "print(thisset)\n",
        "\n",
        "thisset.discard(\"banana\") # not error if item to remove does not exist\n",
        "print(thisset)\n",
        "\n",
        "# Remove a random item\n",
        "thisset1 = {\"apple\", \"banana\", \"cherry\"}\n",
        "x = thisset1.pop()\n",
        "print(x)\n",
        "print(thisset1)\n",
        "\n",
        "thisset.clear()\n",
        "print(thisset)"
      ]
    },
    {
      "cell_type": "code",
      "execution_count": 33,
      "id": "79faa00e",
      "metadata": {},
      "outputs": [
        {
          "name": "stdout",
          "output_type": "stream",
          "text": [
            "{1, 2, 3, 'b', 'a', 'c'}\n",
            "{1, 2, 3, 'b', 'a', 'c'}\n",
            "{1, 2, 3, 'Elena', 'John', 'cherry', 'bananas', 'apple', 'b', 'a', 'c'}\n"
          ]
        }
      ],
      "source": [
        "# Union\n",
        "set1 = {\"a\", \"b\", \"c\"}\n",
        "set2 = {1, 2, 3}\n",
        "\n",
        "set3 = set1.union(set2)\n",
        "set4 = set1 | set2\n",
        "print(set3)\n",
        "print(set4)\n",
        "\n",
        "set3 = {\"John\", \"Elena\"}\n",
        "set4 = {\"apple\", \"bananas\", \"cherry\"}\n",
        "\n",
        "myset = set1.union(set2, set3, set4)\n",
        "print(myset)"
      ]
    },
    {
      "cell_type": "code",
      "execution_count": 34,
      "id": "348db73b",
      "metadata": {},
      "outputs": [
        {
          "name": "stdout",
          "output_type": "stream",
          "text": [
            "{1, 2, 3, 'b', 'a', 'c'}\n"
          ]
        }
      ],
      "source": [
        "# update() changes the original set, and does not return a new set.\n",
        "set1 = {\"a\", \"b\" , \"c\"}\n",
        "set2 = {1, 2, 3}\n",
        "\n",
        "set1.update(set2)\n",
        "print(set1)"
      ]
    },
    {
      "cell_type": "code",
      "execution_count": 35,
      "id": "707f97d0",
      "metadata": {},
      "outputs": [
        {
          "name": "stdout",
          "output_type": "stream",
          "text": [
            "{'apple'}\n"
          ]
        }
      ],
      "source": [
        "# intersection() method will return a new set, \n",
        "# that only contains the items that are present in both sets.\n",
        "set1 = {\"apple\", \"banana\", \"cherry\"}\n",
        "set2 = {\"google\", \"microsoft\", \"apple\"}\n",
        "\n",
        "set3 = set1.intersection(set2)\n",
        "print(set3)"
      ]
    },
    {
      "cell_type": "code",
      "execution_count": 36,
      "id": "8be305ae",
      "metadata": {},
      "outputs": [
        {
          "name": "stdout",
          "output_type": "stream",
          "text": [
            "{'banana', 'cherry'}\n"
          ]
        }
      ],
      "source": [
        "# Difference\n",
        "set1 = {\"apple\", \"banana\", \"cherry\"}\n",
        "set2 = {\"google\", \"microsoft\", \"apple\"}\n",
        "\n",
        "set3 = set1.difference(set2)\n",
        "\n",
        "print(set3)"
      ]
    },
    {
      "cell_type": "code",
      "execution_count": 37,
      "id": "bdaa934e",
      "metadata": {},
      "outputs": [
        {
          "name": "stdout",
          "output_type": "stream",
          "text": [
            "{'banana', 'cherry'}\n"
          ]
        }
      ],
      "source": [
        "set1 = {\"apple\", \"banana\", \"cherry\"}\n",
        "set2 = {\"google\", \"microsoft\", \"apple\"}\n",
        "\n",
        "set3 = set1 - set2\n",
        "print(set3)\n",
        "# The - operator only allows you to join sets with sets,\n",
        "# and not with other data types like you can with the difference() method."
      ]
    },
    {
      "cell_type": "code",
      "execution_count": 38,
      "id": "66bf06aa",
      "metadata": {},
      "outputs": [
        {
          "name": "stdout",
          "output_type": "stream",
          "text": [
            "{'banana', 'cherry'}\n"
          ]
        }
      ],
      "source": [
        "# difference_update()\n",
        "set1 = {\"apple\", \"banana\", \"cherry\"}\n",
        "set2 = {\"google\", \"microsoft\", \"apple\"}\n",
        "\n",
        "set1.difference_update(set2)\n",
        "\n",
        "print(set1)"
      ]
    },
    {
      "cell_type": "markdown",
      "id": "8548902c",
      "metadata": {},
      "source": [
        "add()\t \tAdds an element to the set  \n",
        "clear()\t \tRemoves all the elements from the set  \n",
        "copy()\t \tReturns a copy of the set  \n",
        "difference()\t-\tReturns a set containing the difference between two or more sets  \n",
        "difference_update()\t-=\tRemoves the items in this set that are also included in another, specified set  \n",
        "discard()\t \tRemove the specified item  \n",
        "intersection()\t&\tReturns a set, that is the intersection of two other sets  \n",
        "intersection_update()\t&=\tRemoves the items in this set that are not present in other, specified set(s)  \n",
        "isdisjoint()\t \tReturns whether two sets have a intersection or not  \n",
        "issubset()\t<=\tReturns True if all items of this set is present in another set  \n",
        " \t<\tReturns True if all items of this set is present in another, larger set  \n",
        "issuperset()\t>=\tReturns True if all items of another set is present in this set  \n",
        " \t>\tReturns True if all items of another, smaller set is present in this set  \n",
        "pop()\t \tRemoves an element from the set  \n",
        "remove()\t \tRemoves the specified element  \n",
        "symmetric_difference()\t^\tReturns a set with the symmetric differences of two sets  \n",
        "symmetric_difference_update()\t^=\tInserts the symmetric differences from this set and another  \n",
        "union()\t|\tReturn a set containing the union of sets  \n",
        "update()\t|=\tUpdate the set with the union of this set and others  "
      ]
    },
    {
      "cell_type": "code",
      "execution_count": 39,
      "id": "95977071",
      "metadata": {},
      "outputs": [],
      "source": [
        "# eg. 查找不同元素\n",
        "\n",
        "answer=[]\n",
        "ans1=[]\n",
        "nums1 = [1, 2, 3, 3]\n",
        "nums2 = [1, 1, 2, 2]\n",
        "\n",
        "a = set(nums1) - set(nums2)\n",
        "b = set(nums2) - set(nums1)\n",
        "li = [list(a),list(b)]"
      ]
    },
    {
      "cell_type": "markdown",
      "id": "561023b6",
      "metadata": {},
      "source": [
        "### Tuple \n",
        "Unlike Python lists, tuples are immutable. "
      ]
    },
    {
      "cell_type": "code",
      "execution_count": 40,
      "id": "f6c433e3",
      "metadata": {},
      "outputs": [
        {
          "name": "stdout",
          "output_type": "stream",
          "text": [
            "2\n",
            "5\n",
            "(1, 2, 3, 4, 2, 3)\n"
          ]
        }
      ],
      "source": [
        "tup = (1, 2, 3, 4, 5)\n",
        "\n",
        "# tuples are indexed\n",
        "print(tup[1])\n",
        "print(tup[4])\n",
        "\n",
        "# tuples contain duplicate elements\n",
        "tup = (1, 2, 3, 4, 2, 3)\n",
        "print(tup)\n",
        "\n",
        "# cannot updating an element\n",
        "# tup[1] = 100"
      ]
    },
    {
      "cell_type": "code",
      "execution_count": 41,
      "id": "04513340",
      "metadata": {},
      "outputs": [
        {
          "name": "stdout",
          "output_type": "stream",
          "text": [
            "1 2 3 4 5 "
          ]
        }
      ],
      "source": [
        "# Traverse through each item in the tuple\n",
        "tup = (1, 2, 3, 4, 5)\n",
        "\n",
        "for x in tup:\n",
        "    print(x, end=\" \")"
      ]
    },
    {
      "cell_type": "code",
      "execution_count": 42,
      "id": "ba2585d0",
      "metadata": {},
      "outputs": [
        {
          "name": "stdout",
          "output_type": "stream",
          "text": [
            "(0, 1, 2, 3, 'python', 'geek')\n"
          ]
        }
      ],
      "source": [
        "# Concatenating above two\n",
        "tup1 = (0, 1, 2, 3)\n",
        "tup2 = ('python', 'geek')\n",
        "\n",
        "print(tup1 + tup2)"
      ]
    },
    {
      "cell_type": "code",
      "execution_count": 43,
      "id": "8bfdaad3",
      "metadata": {},
      "outputs": [
        {
          "name": "stdout",
          "output_type": "stream",
          "text": [
            "((0, 1, 2, 3), ('python', 'geek'))\n"
          ]
        }
      ],
      "source": [
        "# Nested tuples - a tuple inside another tuple.\n",
        "tup1 = (0, 1, 2, 3)\n",
        "tup2 = ('python', 'geek')\n",
        "\n",
        "tup3 = (tup1, tup2)\n",
        "print(tup3)"
      ]
    },
    {
      "cell_type": "code",
      "execution_count": 44,
      "id": "6363dda3",
      "metadata": {},
      "outputs": [
        {
          "name": "stdout",
          "output_type": "stream",
          "text": [
            "('python', 'python', 'python')\n"
          ]
        }
      ],
      "source": [
        "# Repetition\n",
        "tup = ('python',)*3\n",
        "print(tup)"
      ]
    },
    {
      "cell_type": "code",
      "execution_count": 45,
      "id": "06d2cdca",
      "metadata": {},
      "outputs": [
        {
          "name": "stdout",
          "output_type": "stream",
          "text": [
            "(1, 2, 3)\n",
            "(3, 2, 1, 0)\n",
            "(2, 3)\n"
          ]
        }
      ],
      "source": [
        "# Slicing\n",
        "tup = (0 ,1, 2, 3)\n",
        "\n",
        "print(tup[1:])\n",
        "print(tup[::-1])\n",
        "print(tup[2:4])"
      ]
    },
    {
      "cell_type": "code",
      "execution_count": 46,
      "id": "183b8f3a",
      "metadata": {},
      "outputs": [
        {
          "name": "stdout",
          "output_type": "stream",
          "text": [
            "('immutable', True, 23)\n"
          ]
        }
      ],
      "source": [
        "# Different datatypes\n",
        "tup = (\"immutable\", True, 23)\n",
        "print(tup)"
      ]
    },
    {
      "cell_type": "code",
      "execution_count": 47,
      "id": "6ad390ce",
      "metadata": {},
      "outputs": [
        {
          "name": "stdout",
          "output_type": "stream",
          "text": [
            "(0, 1, 2)\n"
          ]
        }
      ],
      "source": [
        "# Converting a list and a string into a tuple\n",
        "a = [0, 1, 2]\n",
        "tup = tuple(a)\n",
        "\n",
        "print(tup)"
      ]
    },
    {
      "cell_type": "code",
      "execution_count": 48,
      "id": "27df06d1",
      "metadata": {},
      "outputs": [
        {
          "name": "stdout",
          "output_type": "stream",
          "text": [
            "(10,)\n",
            "<class 'tuple'>\n",
            "10\n",
            "<class 'int'>\n"
          ]
        }
      ],
      "source": [
        "# Single-element tuple\n",
        "tup = (10, ) # Comma is important here\n",
        "print(tup)  # Output: (10,)\n",
        "print(type(tup))\n",
        "\n",
        "# What if we do not use comma\n",
        "tup = (10) # This an integer (not a tuple)\n",
        "print(tup)  \n",
        "print(type(tup))"
      ]
    },
    {
      "cell_type": "code",
      "execution_count": 49,
      "id": "126cff47",
      "metadata": {},
      "outputs": [
        {
          "name": "stdout",
          "output_type": "stream",
          "text": [
            "(('gfg',),)\n",
            "((('gfg',),),)\n",
            "(((('gfg',),),),)\n",
            "((((('gfg',),),),),)\n",
            "(((((('gfg',),),),),),)\n"
          ]
        }
      ],
      "source": [
        "# Loop\n",
        "tup = ('gfg',)\n",
        "\n",
        "# Number of time loop runs\n",
        "n = 5 \n",
        "for i in range(int(n)):\n",
        "    tup = (tup,)\n",
        "    print(tup)"
      ]
    },
    {
      "cell_type": "markdown",
      "id": "5b7b7342",
      "metadata": {},
      "source": [
        "index( )\tFind in the tuple and returns the index of the given value where it's available  \n",
        "count( )\tReturns the frequency of occurrence of a specified value  \n",
        "all()\tReturns true if all element are true or if tuple is empty  \n",
        "any()\treturn true if any element of the tuple is true. if tuple is empty, return false  \n",
        "len()\tReturns length of the tuple or size of the tuple  \n",
        "enumerate()\tReturns enumerate object of tuple  \n",
        "max()\treturn maximum element of given tuple  \n",
        "min()\treturn minimum element of given tuple  \n",
        "sum()\tSums up the numbers in the tuple  \n",
        "sorted()\tinput elements in the tuple and return a new sorted list  \n",
        "tuple()\tConvert an iterable to a tuple.  "
      ]
    },
    {
      "cell_type": "markdown",
      "id": "a37adbe1",
      "metadata": {},
      "source": [
        "### 字典"
      ]
    },
    {
      "cell_type": "code",
      "execution_count": 50,
      "id": "96043ae9",
      "metadata": {},
      "outputs": [],
      "source": [
        "# 创建字典\n",
        "a = {}\n",
        "a = dict()"
      ]
    },
    {
      "cell_type": "code",
      "execution_count": 51,
      "id": "a885d963",
      "metadata": {},
      "outputs": [
        {
          "name": "stdout",
          "output_type": "stream",
          "text": [
            "{'HUST': 'study', 'WHU': 'play', 'ZUEL': 'eat', 'CCNU': 'love', 'WHUT': '???', 'HZAU': 'farm', 'CUG': 'jewelry'}\n",
            "jewelry\n",
            "{'HUST': 'study', 'WHU': 'play', 'ZUEL': 'eat', 'CCNU': 'love', 'HZAU': 'farm'}\n"
          ]
        }
      ],
      "source": [
        "# 添加/修改/删除字典元素\n",
        "\n",
        "a_dict = {\"HUST\":\"study\", \"WHU\":\"play\", \"ZUEL\":\"eat\", \"CCNU\":\"love\"}\n",
        "\n",
        "# []添加修改，有值就修改，没有就创建\n",
        "a_dict[\"WHUT\"] = \"???\"      # 方括号\n",
        "\n",
        "# setdefault，key已存在就不修改，防止覆盖\n",
        "a_dict.setdefault(\"HZAU\", \"farm\")  # setdefault 函数\n",
        "\n",
        "# update(dict) 添加一个dict到另一个dict\n",
        "temp = {\"CUG\":\"jewelry\"}\n",
        "a_dict.update(temp)  # update 函数 创建新字典并加进去\n",
        " \n",
        "print(a_dict)  # {'HUST': 'study', 'WHU': 'play', 'ZUEL': 'eat', 'CCNU': 'love', 'WHUT': '???', 'HZAU': 'farm', 'CUG': 'jewelry'}\n",
        "\n",
        "# 删除\n",
        "a_dict = {'HUST': 'study', 'WHU': 'play', 'ZUEL': 'eat', 'CCNU': 'love', 'WHUT': '???', 'HZAU': 'farm', 'CUG': 'jewelry'}\n",
        "del a_dict['WHUT']\n",
        "print(a_dict.pop(\"CUG\")) # 返回删除的key对应的value\n",
        "print(a_dict)  # {'HUST': 'study', 'WHU': 'play', 'ZUEL': 'eat', 'CCNU': 'love', 'HZAU': 'farm'}"
      ]
    },
    {
      "cell_type": "code",
      "execution_count": null,
      "id": "cad80749",
      "metadata": {},
      "outputs": [],
      "source": [
        "# get()\n",
        "\n",
        "# get，[] 和 setdefault的区别：\n",
        "# get不修改字典，\n",
        "# setdefault会修改字典（但会防止覆盖），\n",
        "# []会真的修改\n",
        "my_dict = {'name': 'Alice', 'age': 30, 'city': 'New York'}\n",
        "\n",
        "# Key exists, no default value\n",
        "value1 = my_dict.get('name')\n",
        "print(f\"Value for 'name': {value1}\")  # Output: Value for 'name': Alice\n",
        "\n",
        "# Key exists, with default value (which is ignored)\n",
        "value2 = my_dict.get('age', 0)\n",
        "print(f\"Value for 'age': {value2}\")   # Output: Value for 'age': 30\n",
        "\n",
        "# Key does not exist, no default value (returns None)\n",
        "value3 = my_dict.get('country')\n",
        "print(f\"Value for 'country': {value3}\") # Output: Value for 'country': None\n",
        "\n",
        "# Key does not exist, with default value\n",
        "value4 = my_dict.get('occupation', 'Unemployed')\n",
        "print(f\"Value for 'occupation': {value4}\") # Output: Value for 'occupation': Unemployed"
      ]
    },
    {
      "cell_type": "code",
      "execution_count": 4,
      "id": "7a7ec1e5",
      "metadata": {},
      "outputs": [
        {
          "name": "stdout",
          "output_type": "stream",
          "text": [
            "???\n",
            "eat\n",
            "dict_values(['study', 'play', '???', 'love'])\n",
            "dict_keys(['HUST', 'WHU', 'WHUT', 'CCNU'])\n"
          ]
        }
      ],
      "source": [
        "# 访问\n",
        "a_dict = {\"HUST\":\"study\", \"WHU\":\"play\", \"WHUT\":\"???\", \"CCNU\":\"love\"}\n",
        "print(a_dict[\"WHUT\"])  # ???\n",
        "print(a_dict.get(\"ZUEL\", \"eat\")) # key 不存在，返回 eat\n",
        "\n",
        "print(a_dict.values()) # list\n",
        "print(a_dict.keys())"
      ]
    },
    {
      "cell_type": "code",
      "execution_count": 53,
      "id": "62574b50",
      "metadata": {},
      "outputs": [
        {
          "name": "stdout",
          "output_type": "stream",
          "text": [
            "7\n"
          ]
        }
      ],
      "source": [
        "# 个数\n",
        "a_dict = {'HUST': 'study', 'WHU': 'play', 'ZUEL': 'eat', 'CCNU': 'love', 'WHUT': '???', 'HZAU': 'vegetable field', 'CUG': 'jewelry'}\n",
        "print(len(a_dict))  # 7"
      ]
    },
    {
      "cell_type": "code",
      "execution_count": 59,
      "id": "8023fcff",
      "metadata": {},
      "outputs": [
        {
          "name": "stdout",
          "output_type": "stream",
          "text": [
            "{'???', 'play', 'love', 'study'}\n",
            "{'WHUT', 'HUST', 'CCNU', 'WHU'}\n"
          ]
        }
      ],
      "source": [
        "# 转数据结构\n",
        "\n",
        "a_dict = {\"HUST\":\"study\", \"WHU\":\"play\", \"WHUT\":\"???\", \"CCNU\":\"love\"}\n",
        "print(set(a_dict.values()))\n",
        "print(set(a_dict.keys()))"
      ]
    },
    {
      "cell_type": "markdown",
      "id": "aae433eb",
      "metadata": {},
      "source": [
        "dict.clear()       # 清空字典  \n",
        "dict.items()       # 以列表形式返回可遍历的(key, value)元组类型数组  \n",
        "dict.keys()        # 以列表形式返回字典中所有的 key  \n",
        "dict.values()      # 以列表形式返回字典中所有的 value  \n",
        "dict.has_key(key)  # 如果键 key 在字典中则返回 True  \n",
        "key in dict        # 如果键 key 在字典中则返回 True  \n",
        "dict.popitem()     # 随即返回并删除一个键值对，并以(key, value)元组方式返回  "
      ]
    },
    {
      "cell_type": "markdown",
      "id": "eb16c09d",
      "metadata": {},
      "source": [
        "### 经典类定义"
      ]
    },
    {
      "cell_type": "markdown",
      "id": "f6d1e997",
      "metadata": {},
      "source": [
        "#### 二叉树"
      ]
    },
    {
      "cell_type": "code",
      "execution_count": null,
      "id": "3dee380c",
      "metadata": {},
      "outputs": [],
      "source": [
        "class TreeNode(object):\n",
        "    def __init__(self, val=0, left=None, right=None):\n",
        "        self.val = val\n",
        "        self.left = left\n",
        "        self.right = right"
      ]
    },
    {
      "cell_type": "markdown",
      "id": "cc8b31b8",
      "metadata": {},
      "source": [
        "### 其他库"
      ]
    },
    {
      "cell_type": "markdown",
      "id": "3b7b7045",
      "metadata": {},
      "source": [
        "#### all ()"
      ]
    },
    {
      "cell_type": "code",
      "execution_count": null,
      "id": "16a0e9b7",
      "metadata": {},
      "outputs": [
        {
          "name": "stdout",
          "output_type": "stream",
          "text": [
            "True\n",
            "True\n",
            "True\n"
          ]
        }
      ],
      "source": [
        "# Check if all items in a list are True:\n",
        "mylist = [True, True, True]\n",
        "x = all(mylist)\n",
        "print(x)\n",
        "\n",
        "# Check if all items in a dictionary are True:\n",
        "\n",
        "mydict = {0 : \"Apple\", 1 : \"Orange\"}\n",
        "y = all(mydict) # 迭代key，0-False, 1-True\n",
        "z = all(mydict.values())\n",
        "print(y)\n",
        "print(z)"
      ]
    },
    {
      "cell_type": "markdown",
      "id": "1e4e8d46",
      "metadata": {},
      "source": [
        "#### in"
      ]
    },
    {
      "cell_type": "code",
      "execution_count": null,
      "id": "b6cefd00",
      "metadata": {},
      "outputs": [],
      "source": [
        "# 查找元素是否是元音字母\n",
        "def checkVow(c):\n",
        "    vowlist = ['a', 'e', 'i', 'o', 'u']\n",
        "    if c in vowlist:\n",
        "        return True\n",
        "    return False"
      ]
    },
    {
      "cell_type": "code",
      "execution_count": null,
      "id": "a3c2cdbe",
      "metadata": {},
      "outputs": [],
      "source": [
        "answer=[]\n",
        "ans1=[]\n",
        "nums1 = [1, 2, 3, 3]\n",
        "nums2 = [1, 1, 2, 2]\n",
        "for i in nums1:\n",
        "    if i not in ans1 and i not in nums2:\n",
        "        ans1.append(i)\n",
        "answer.append(ans1)\n",
        "ans2=[]\n",
        "for j in nums2:\n",
        "    if j not in ans2 and j not in nums1:\n",
        "        ans2.append(j)\n",
        "answer.append(ans2)"
      ]
    },
    {
      "cell_type": "markdown",
      "id": "54e554e6",
      "metadata": {},
      "source": [
        "#### sort() & sorted()"
      ]
    },
    {
      "cell_type": "markdown",
      "id": "dc87e189",
      "metadata": {},
      "source": [
        "sorted(iterable)  \n",
        "\n",
        "内置函数，可以作用在任何可迭代对象上（list、tuple、set、dict、string...）。  \n",
        "\n",
        "返回一个新的排序好的列表，不会改变原对象。  \n",
        "\n",
        "返回值是排序好的 新列表。  "
      ]
    },
    {
      "cell_type": "code",
      "execution_count": null,
      "id": "68d21900",
      "metadata": {},
      "outputs": [],
      "source": [
        "nums = [3, 1, 2]\n",
        "new_nums = sorted(nums)  \n",
        "print(new_nums)  # [1, 2, 3]\n",
        "print(nums)      # [3, 1, 2]  原列表没变\n"
      ]
    },
    {
      "cell_type": "markdown",
      "id": "45dca6f1",
      "metadata": {},
      "source": [
        "list.sort()  \n",
        "\n",
        "列表（list）的方法，只能用在列表上。  \n",
        "\n",
        "就地排序（in-place），直接修改原列表，不会生成新的列表。  \n",
        "\n",
        "返回值是 None，所以不能直接赋值。  "
      ]
    },
    {
      "cell_type": "code",
      "execution_count": null,
      "id": "48553163",
      "metadata": {},
      "outputs": [],
      "source": [
        "nums = [3, 1, 2]\n",
        "nums.sort()       # 在原地排序\n",
        "print(nums)       # [1, 2, 3]\n",
        "print(nums.sort()) # None （不能这样用）\n"
      ]
    },
    {
      "cell_type": "markdown",
      "id": "55532f4d",
      "metadata": {},
      "source": [
        "#### copy库"
      ]
    },
    {
      "cell_type": "code",
      "execution_count": null,
      "id": "36190e46",
      "metadata": {},
      "outputs": [
        {
          "data": {
            "text/plain": [
              "[0, 1]"
            ]
          },
          "execution_count": 68,
          "metadata": {},
          "output_type": "execute_result"
        }
      ],
      "source": [
        "# 深拷贝（改原数组值不影响现有值）\n",
        "import copy\n",
        "arr = [0, 1]\n",
        "deepcp = copy.deepcopy(arr)\n",
        "arr[0] = 5\n",
        "deepcp"
      ]
    },
    {
      "cell_type": "markdown",
      "id": "e235804c",
      "metadata": {},
      "source": [
        "#### collections - Counter"
      ]
    },
    {
      "cell_type": "code",
      "execution_count": 1,
      "id": "aa915c6d",
      "metadata": {},
      "outputs": [
        {
          "name": "stdout",
          "output_type": "stream",
          "text": [
            "Counter({4: 4, 3: 3, 2: 2, 1: 1})\n"
          ]
        }
      ],
      "source": [
        "from collections import Counter\n",
        "# Create a list of items\n",
        "num = [1, 2, 2, 3, 3, 3, 4, 4, 4, 4]\n",
        "\n",
        "# Use Counter to count occurrences\n",
        "cnt = Counter(num)\n",
        "print(cnt)"
      ]
    },
    {
      "cell_type": "code",
      "execution_count": 2,
      "id": "156c2bac",
      "metadata": {},
      "outputs": [
        {
          "name": "stdout",
          "output_type": "stream",
          "text": [
            "Counter({3: 3, 2: 2, 1: 1})\n",
            "Counter({2: 3, 1: 2, 3: 1})\n",
            "Counter({'l': 2, 'h': 1, 'e': 1, 'o': 1})\n"
          ]
        }
      ],
      "source": [
        "from collections import Counter\n",
        "ctr1 = Counter([1, 2, 2, 3, 3, 3]) # From a list\n",
        "ctr2 = Counter({1: 2, 2: 3, 3: 1}) # From a dictionary\n",
        "ctr3 = Counter('hello') # From a string\n",
        "\n",
        "print(ctr1)\n",
        "print(ctr2)\n",
        "print(ctr3)"
      ]
    },
    {
      "cell_type": "markdown",
      "id": "059f9877",
      "metadata": {},
      "source": [
        "#### bisect库 - 二分查找\n",
        "bisect_left(a, x) ：返回第一个 >= x 的位置  \n",
        "bisect_right(a, x)：返回第一个 > x 的位置"
      ]
    },
    {
      "cell_type": "code",
      "execution_count": 1,
      "id": "79a235b3",
      "metadata": {},
      "outputs": [
        {
          "name": "stdout",
          "output_type": "stream",
          "text": [
            "2\n",
            "3\n",
            "0\n",
            "4\n"
          ]
        }
      ],
      "source": [
        "import bisect\n",
        "\n",
        "a = [1, 3, 4, 7]\n",
        "\n",
        "print(bisect.bisect_left(a, 4))  # 输出 2，因为 a[2] == 4\n",
        "print(bisect.bisect_left(a, 5))  # 输出 3，要插入在 7 前面\n",
        "print(bisect.bisect_left(a, 0))  # 输出 0，要插在最前面\n",
        "print(bisect.bisect_left(a, 10)) # 输出 4，要插在最后面\n"
      ]
    },
    {
      "cell_type": "markdown",
      "id": "02e8ac6d",
      "metadata": {},
      "source": [
        "#### 全局变量"
      ]
    },
    {
      "cell_type": "code",
      "execution_count": null,
      "id": "1c8a0d79",
      "metadata": {},
      "outputs": [],
      "source": [
        "class Solution(object):\n",
        "    ans = -float('inf')\n",
        "    def maxPathSum(self, root):\n",
        "        \"\"\"\n",
        "        :type root: Optional[TreeNode]\n",
        "        :rtype: int\n",
        "        \"\"\"\n",
        "        def f(i):\n",
        "            if i is None:\n",
        "                return 0\n",
        "            left = f(i.left)\n",
        "            right = f(i.right)\n",
        "            v = i.val\n",
        "            self.ans = max(self.ans, left + right + v)\n",
        "            return max(max(left, right) + v, 0) # 如果子链上的和为负数，那么就断开这条链从父节点当起点 \n",
        "        f(root)\n",
        "        return self.ans"
      ]
    },
    {
      "cell_type": "markdown",
      "id": "2d06fcd9",
      "metadata": {},
      "source": [
        "#### 数据类型之间的转换"
      ]
    },
    {
      "cell_type": "code",
      "execution_count": 3,
      "id": "0a8b2129",
      "metadata": {},
      "outputs": [
        {
          "data": {
            "text/plain": [
              "0.2"
            ]
          },
          "execution_count": 3,
          "metadata": {},
          "output_type": "execute_result"
        }
      ],
      "source": [
        "# 整数除法要变成小数的话，可以把分母转换成float类型\n",
        "s = 1\n",
        "k = 5\n",
        "s/float(k)"
      ]
    },
    {
      "cell_type": "markdown",
      "id": "82a50893",
      "metadata": {},
      "source": [
        "#### ACM模式"
      ]
    },
    {
      "cell_type": "markdown",
      "id": "d96407a3",
      "metadata": {},
      "source": [
        "固定式输入 - 给定输入的数据量长度  \n",
        "eg. 第一行一个整数n，第二行长度为n的整数  \n",
        "5  \n",
        "1 2 3 4 5"
      ]
    },
    {
      "cell_type": "code",
      "execution_count": 2,
      "id": "0cf5a839",
      "metadata": {},
      "outputs": [
        {
          "name": "stdout",
          "output_type": "stream",
          "text": [
            "[1, 2, 3, 4, 5]\n"
          ]
        }
      ],
      "source": [
        "n = int(input())\n",
        "array = list(map(int, input().split(' ')))\n",
        "print(array)"
      ]
    },
    {
      "cell_type": "markdown",
      "id": "d7f029f9",
      "metadata": {},
      "source": [
        "不固定输入 - 一行内数量不确定  \n",
        "eg. 1 2 3 4 5 6..."
      ]
    },
    {
      "cell_type": "code",
      "execution_count": 5,
      "id": "93c15020",
      "metadata": {},
      "outputs": [
        {
          "name": "stdout",
          "output_type": "stream",
          "text": [
            "[1, 2, 3, 4, 5, 6]\n"
          ]
        }
      ],
      "source": [
        "data = list(map(int, input().split()))\n",
        "print(data)"
      ]
    },
    {
      "cell_type": "markdown",
      "id": "f0b7f56f",
      "metadata": {},
      "source": [
        "不固定输入 - 数据组数不确定  "
      ]
    },
    {
      "cell_type": "code",
      "execution_count": null,
      "id": "1d86accc",
      "metadata": {},
      "outputs": [],
      "source": [
        "import sys\n",
        "for line in sys.stdin:\n",
        "    # 先读每组第一个数（每组的数据个数）\n",
        "    cnt = int(line)\n",
        "    print(cnt)\n",
        "    # 读下一行作为该组的具体内容\n",
        "    data_line = sys.stdin.readline().strip() # strip为去掉末尾空白字符\n",
        "    data = list(map(int, data_line.split()))\n",
        "    print(data)"
      ]
    },
    {
      "cell_type": "markdown",
      "id": "a05999ee",
      "metadata": {},
      "source": [
        "不固定输入 - 组数不定，每组数据也不定"
      ]
    },
    {
      "cell_type": "code",
      "execution_count": null,
      "id": "fa4aac1c",
      "metadata": {},
      "outputs": [],
      "source": [
        "import sys\n",
        "for line in sys.stdin:\n",
        "    data = list(map(int, line.split()))"
      ]
    },
    {
      "cell_type": "markdown",
      "id": "fbcf08b0",
      "metadata": {},
      "source": [
        "输出"
      ]
    },
    {
      "cell_type": "code",
      "execution_count": 6,
      "id": "62636245",
      "metadata": {},
      "outputs": [
        {
          "name": "stdout",
          "output_type": "stream",
          "text": [
            "61 2 3 4 5\n"
          ]
        }
      ],
      "source": [
        "print(6, end='') # print()默认换行，end参数自定义末尾符\n",
        "# 注意行末的空格和换行\n",
        "\n",
        "arr = [1,2,3,4,5]\n",
        "print(' '.join(map(str, arr))) # 先转字符串，用join拼接"
      ]
    },
    {
      "cell_type": "markdown",
      "id": "7a3b3b67",
      "metadata": {},
      "source": [
        "### 行测\n",
        "#### 图形题\n",
        "求同法则\n",
        "平移 左右/上下\n",
        "九宫格 - 横排/竖排规律\n",
        "宝塔形状 - 两个叠加"
      ]
    }
  ],
  "metadata": {
    "kernelspec": {
      "display_name": "base",
      "language": "python",
      "name": "python3"
    },
    "language_info": {
      "codemirror_mode": {
        "name": "ipython",
        "version": 3
      },
      "file_extension": ".py",
      "mimetype": "text/x-python",
      "name": "python",
      "nbconvert_exporter": "python",
      "pygments_lexer": "ipython3",
      "version": "3.9.7"
    }
  },
  "nbformat": 4,
  "nbformat_minor": 5
}
