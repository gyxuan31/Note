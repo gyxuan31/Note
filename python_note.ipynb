{
  "cells": [
    {
      "cell_type": "markdown",
      "id": "cf6adb0a",
      "metadata": {},
      "source": [
        "### List 列表"
      ]
    },
    {
      "cell_type": "code",
      "execution_count": 5,
      "id": "6a7a5448",
      "metadata": {},
      "outputs": [
        {
          "data": {
            "text/plain": [
              "[5, 4, 3, 2, 1]"
            ]
          },
          "execution_count": 5,
          "metadata": {},
          "output_type": "execute_result"
        }
      ],
      "source": [
        "# 翻转数组\n",
        "val = [1, 2, 3, 4, 5]\n",
        "val = val[::-1]\n",
        "val"
      ]
    },
    {
      "cell_type": "code",
      "execution_count": 6,
      "id": "9c8a5e6b",
      "metadata": {},
      "outputs": [
        {
          "name": "stdout",
          "output_type": "stream",
          "text": [
            "[2]\n",
            "[1, 2]\n"
          ]
        }
      ],
      "source": [
        "# 切片：左闭右开\n",
        "p = [1, 2, 3, 4, 5]\n",
        "a = p[1:2]\n",
        "b = p[:2]\n",
        "print(a)\n",
        "print(b)"
      ]
    },
    {
      "cell_type": "code",
      "execution_count": 7,
      "id": "6d464fcb",
      "metadata": {},
      "outputs": [],
      "source": [
        "# 切片是深拷贝！\n",
        "p = [1, 2, 3, 4, 5]\n",
        "s = p[:]\n",
        "p[0] = 1\n",
        "s\n",
        "p[:] = p[:] # 修改整个列表需要加[:]!"
      ]
    },
    {
      "cell_type": "code",
      "execution_count": 8,
      "id": "5ee1d6cf",
      "metadata": {},
      "outputs": [
        {
          "name": "stdout",
          "output_type": "stream",
          "text": [
            "After append(10): [10]\n",
            "After insert(0, 5): [5, 10]\n",
            "After extend([15, 20, 25]): [5, 10, 15, 20, 25]\n",
            "[5, 10, 15, 20, 25, 1]\n"
          ]
        }
      ],
      "source": [
        "# Initialize an empty list\n",
        "a = []\n",
        "b = [1,2,3]\n",
        "\n",
        "# Adding 10 to end of list\n",
        "a.append(10)  \n",
        "print(\"After append(10):\", a)  \n",
        "\n",
        "# Inserting 5 at index 0\n",
        "a.insert(0, 5)\n",
        "print(\"After insert(0, 5):\", a) \n",
        "\n",
        "# Adding multiple elements  [15, 20, 25] at the end\n",
        "a.extend([15, 20, 25])  \n",
        "print(\"After extend([15, 20, 25]):\", a)\n",
        "a.extend(b[:1])\n",
        "print(a)\n",
        "\n",
        "a.sort()"
      ]
    },
    {
      "cell_type": "code",
      "execution_count": 62,
      "id": "33834bf2",
      "metadata": {},
      "outputs": [
        {
          "name": "stdout",
          "output_type": "stream",
          "text": [
            "['a', 'b', 'c', 'e']\n"
          ]
        }
      ],
      "source": [
        "a = ['a', 'b', 'e', 'c']\n",
        "a.sort()\n",
        "print(a)"
      ]
    },
    {
      "cell_type": "code",
      "execution_count": 3,
      "id": "72b4c79c",
      "metadata": {},
      "outputs": [
        {
          "name": "stdout",
          "output_type": "stream",
          "text": [
            "9 3\n"
          ]
        }
      ],
      "source": [
        "# 根据内容返回index\n",
        "\n",
        "nums = [3, 7, 2, 9, 5]\n",
        "\n",
        "max_val = max(nums)\n",
        "idx = nums.index(max_val)\n",
        "\n",
        "print(max_val, idx)  # 9 3"
      ]
    },
    {
      "cell_type": "markdown",
      "id": "089f404d",
      "metadata": {},
      "source": [
        "### String 字符串"
      ]
    },
    {
      "cell_type": "code",
      "execution_count": 9,
      "id": "b1b63ec4",
      "metadata": {},
      "outputs": [
        {
          "name": "stdout",
          "output_type": "stream",
          "text": [
            "I am Learning\n",
            "Python String on GeeksforGeeks\n",
            "I'm a \n",
            "Geek\n"
          ]
        }
      ],
      "source": [
        "# If we need a string to span multiple lines then we can use triple quotes (''' or \"\"\").\n",
        "\n",
        "s = \"\"\"I am Learning\n",
        "Python String on GeeksforGeeks\"\"\"\n",
        "print(s)\n",
        "\n",
        "s = '''I'm a \n",
        "Geek'''\n",
        "print(s)"
      ]
    },
    {
      "cell_type": "code",
      "execution_count": 10,
      "id": "987ed405",
      "metadata": {},
      "outputs": [
        {
          "name": "stdout",
          "output_type": "stream",
          "text": [
            "skeeGrofskeeG\n"
          ]
        }
      ],
      "source": [
        "s = \"GeeksforGeeks\"\n",
        "\n",
        "# Reverse a string\n",
        "print(s[::-1])"
      ]
    },
    {
      "cell_type": "code",
      "execution_count": 11,
      "id": "190f260c",
      "metadata": {},
      "outputs": [
        {
          "name": "stdout",
          "output_type": "stream",
          "text": [
            "GeeksforGeeks\n"
          ]
        }
      ],
      "source": [
        "# Immutability\n",
        "s = \"geeksforGeeks\"\n",
        "\n",
        "# Trying to change the first character raises an error\n",
        "# s[0] = 'I'  # Uncommenting this line will cause a TypeError\n",
        "\n",
        "# Instead, create a new string\n",
        "# string没有append!\n",
        "s = \"G\" + s[1:]\n",
        "print(s)"
      ]
    },
    {
      "cell_type": "code",
      "execution_count": 12,
      "id": "8c04c7e6",
      "metadata": {},
      "outputs": [
        {
          "name": "stdout",
          "output_type": "stream",
          "text": [
            "Hello geeks\n",
            "hello GeeksforGeeks\n"
          ]
        }
      ],
      "source": [
        "# Update - replace()\n",
        "s = \"hello geeks\"\n",
        "\n",
        "# Updating by creating a new string\n",
        "s1 = \"H\" + s[1:]\n",
        "\n",
        "# replacnig \"geeks\" with \"GeeksforGeeks\"\n",
        "s2 = s.replace(\"geeks\", \"GeeksforGeeks\")\n",
        "print(s1)\n",
        "print(s2)"
      ]
    },
    {
      "cell_type": "code",
      "execution_count": 13,
      "id": "87c1021a",
      "metadata": {},
      "outputs": [
        {
          "name": "stdout",
          "output_type": "stream",
          "text": [
            "HELLO WORLD\n",
            "hello world\n"
          ]
        }
      ],
      "source": [
        "# Upper and Lower\n",
        "s = \"Hello World\"\n",
        "\n",
        "print(s.upper())   # output: HELLO WORLD\n",
        "print(s.lower())   # output: hello world"
      ]
    },
    {
      "cell_type": "code",
      "execution_count": 1,
      "id": "0dcc833d",
      "metadata": {},
      "outputs": [
        {
          "name": "stdout",
          "output_type": "stream",
          "text": [
            "Gfg\n",
            "hello world\n",
            "hello\n"
          ]
        }
      ],
      "source": [
        "# strip()\n",
        "s = \"   Gfg   \"\n",
        "\n",
        "# Removes spaces from both ends\n",
        "print(s.strip())    \n",
        "\n",
        "# 加入参数可以去掉固定字符\n",
        "line = \"   hello world  \\n\"\n",
        "print(line.strip())    # \"hello world\"\n",
        "print(\"xxhelloxx\".strip(\"x\"))  # \"hello\"\n"
      ]
    },
    {
      "cell_type": "code",
      "execution_count": 15,
      "id": "efad36c8",
      "metadata": {},
      "outputs": [
        {
          "name": "stdout",
          "output_type": "stream",
          "text": [
            "Hello World\n",
            "Hello Hello Hello \n"
          ]
        }
      ],
      "source": [
        "# Concatenating and Repeating Strings\n",
        "s1 = \"Hello\"\n",
        "s2 = \"World\"\n",
        "s3 = s1 + \" \" + s2\n",
        "print(s3)\n",
        "\n",
        "s4 = \"Hello \"\n",
        "print(s4 * 3)"
      ]
    },
    {
      "cell_type": "code",
      "execution_count": 16,
      "id": "7aab50e7",
      "metadata": {},
      "outputs": [
        {
          "name": "stdout",
          "output_type": "stream",
          "text": [
            "Name: Alice, Age: 22\n"
          ]
        }
      ],
      "source": [
        "# f-strings\n",
        "name = \"Alice\"\n",
        "age = 22\n",
        "print(f\"Name: {name}, Age: {age}\")"
      ]
    },
    {
      "cell_type": "code",
      "execution_count": 17,
      "id": "b19cdcc8",
      "metadata": {},
      "outputs": [
        {
          "name": "stdout",
          "output_type": "stream",
          "text": [
            "True\n",
            "False\n"
          ]
        }
      ],
      "source": [
        "# in\n",
        "s = \"GeeksforGeeks\"\n",
        "print(\"Geeks\" in s)\n",
        "print(\"GfG\" in s)"
      ]
    },
    {
      "cell_type": "code",
      "execution_count": 68,
      "id": "ea35a812",
      "metadata": {},
      "outputs": [
        {
          "name": "stdout",
          "output_type": "stream",
          "text": [
            "I love Python\n",
            "<class 'str'>\n",
            "3\n"
          ]
        }
      ],
      "source": [
        "# 数据类型转换\n",
        "\n",
        "# list -> str\n",
        "words = [\"I\", \"love\", \"Python\"]\n",
        "sentence = \" \".join(words)\n",
        "print(sentence)   # I love Python\n",
        "print(type(sentence))\n",
        "\n",
        "# str -> str\n",
        "s = \"bac\"\n",
        "a = list(s)\n",
        "print(len(s))"
      ]
    },
    {
      "cell_type": "markdown",
      "id": "7d630849",
      "metadata": {},
      "source": [
        "### map  \n",
        "对iterable对象（列表，字符串，range等）的每个元素进行处理"
      ]
    },
    {
      "cell_type": "code",
      "execution_count": null,
      "id": "fa2462ea",
      "metadata": {},
      "outputs": [
        {
          "name": "stdout",
          "output_type": "stream",
          "text": [
            "[1, 2, 3]\n"
          ]
        }
      ],
      "source": [
        "# string -> int\n",
        "nums = [\"1\", \"2\", \"3\"]\n",
        "result = list(map(int, nums))\n",
        "print(result)   # [1, 2, 3]"
      ]
    },
    {
      "cell_type": "code",
      "execution_count": null,
      "id": "9a52849b",
      "metadata": {},
      "outputs": [],
      "source": [
        "# 对每个元素求平方\n",
        "nums = [1, 2, 3, 4]\n",
        "result = list(map(lambda x: x**2, nums))\n",
        "print(result)   # [1, 4, 9, 16]"
      ]
    },
    {
      "cell_type": "markdown",
      "id": "3bbce419",
      "metadata": {},
      "source": [
        "### Deque 队列（右进左出 先进先出）"
      ]
    },
    {
      "cell_type": "code",
      "execution_count": 18,
      "metadata": {},
      "outputs": [],
      "source": [
        "from collections import deque\n",
        "dq = deque([10, 20, 30])"
      ]
    },
    {
      "cell_type": "code",
      "execution_count": 19,
      "metadata": {},
      "outputs": [
        {
          "data": {
            "text/plain": [
              "deque([10, 20, 30, 40])"
            ]
          },
          "execution_count": 19,
          "metadata": {},
          "output_type": "execute_result"
        }
      ],
      "source": [
        "# Add elements to the right\n",
        "a = dq.append(40)\n",
        "dq"
      ]
    },
    {
      "cell_type": "code",
      "execution_count": 20,
      "metadata": {},
      "outputs": [
        {
          "data": {
            "text/plain": [
              "deque([5, 10, 20, 30, 40])"
            ]
          },
          "execution_count": 20,
          "metadata": {},
          "output_type": "execute_result"
        }
      ],
      "source": [
        "# Add elements to the left\n",
        "dq.appendleft(5)\n",
        "dq  "
      ]
    },
    {
      "cell_type": "code",
      "execution_count": 21,
      "metadata": {},
      "outputs": [
        {
          "name": "stdout",
          "output_type": "stream",
          "text": [
            "After extend([50, 60, 70]): deque([5, 10, 20, 30, 40, 50, 60, 70])\n"
          ]
        }
      ],
      "source": [
        "# extend(iterable) Adds all elements from iterable to the right end of the deque.\n",
        "dq.extend([50, 60, 70]) \n",
        "print(\"After extend([50, 60, 70]):\", dq)"
      ]
    },
    {
      "cell_type": "code",
      "execution_count": 22,
      "metadata": {},
      "outputs": [
        {
          "name": "stdout",
          "output_type": "stream",
          "text": [
            "After extendleft([0, 5]): deque([5, 0, 5, 10, 20, 30, 40, 50, 60, 70])\n"
          ]
        }
      ],
      "source": [
        "# extendleft(iterable) (reversed order)\n",
        "dq.extendleft([0, 5])  \n",
        "print(\"After extendleft([0, 5]):\", dq)"
      ]
    },
    {
      "cell_type": "code",
      "execution_count": 23,
      "metadata": {},
      "outputs": [
        {
          "name": "stdout",
          "output_type": "stream",
          "text": [
            "After remove(20): deque([5, 0, 5, 10, 30, 40, 50, 60, 70])\n"
          ]
        }
      ],
      "source": [
        "# remove method\n",
        "dq.remove(20)\n",
        "print(\"After remove(20):\", dq)"
      ]
    },
    {
      "cell_type": "code",
      "execution_count": 24,
      "metadata": {},
      "outputs": [
        {
          "name": "stdout",
          "output_type": "stream",
          "text": [
            "deque([5, 0, 5, 10, 30, 40, 50, 60])\n",
            "70\n"
          ]
        }
      ],
      "source": [
        "# Remove elements from the right\n",
        "a = dq.pop()\n",
        "print(dq)\n",
        "print(a)"
      ]
    },
    {
      "cell_type": "code",
      "execution_count": 25,
      "metadata": {},
      "outputs": [
        {
          "name": "stdout",
          "output_type": "stream",
          "text": [
            "5\n",
            "After pop and popleft: deque([0, 5, 10, 30, 40, 50, 60])\n"
          ]
        }
      ],
      "source": [
        "# Remove elements from the left\n",
        "a = dq.popleft()  \n",
        "print(a)\n",
        "print(\"After pop and popleft:\", dq)"
      ]
    },
    {
      "cell_type": "code",
      "execution_count": 26,
      "metadata": {},
      "outputs": [
        {
          "name": "stdout",
          "output_type": "stream",
          "text": [
            "After clear(): deque([])\n"
          ]
        }
      ],
      "source": [
        "# clear() - Removes all elements from the deque\n",
        "dq.clear()  # deque: []\n",
        "print(\"After clear():\", dq)"
      ]
    },
    {
      "cell_type": "markdown",
      "id": "237357c5",
      "metadata": {},
      "source": [
        "### Set 集合\n",
        "set() function in Python is used to create a set, which is an *unordered* collection of unique elements. Sets are *mutable*, meaning elements can be added or removed after creation. However, all elements inside a set must be *immutable*, such as numbers, strings or tuples. The set() function can take an iterable (like a list, tuple or dictionary) as input, removing duplicates automatically. Sets support various operations such as union, intersection and difference, making them useful for mathematical computations and data processing."
      ]
    },
    {
      "cell_type": "code",
      "execution_count": 27,
      "id": "ed0bfb96",
      "metadata": {},
      "outputs": [
        {
          "name": "stdout",
          "output_type": "stream",
          "text": [
            "set()\n",
            "<class 'set'>\n",
            "{1, 2, 3, 4, 5}\n",
            "{1, 2, 3, 4, 5}\n",
            "{0, 1, 2, 3, 4, 5, 6, 7, 8, 9, 10}\n",
            "{'a', 'c', 'b'}\n"
          ]
        }
      ],
      "source": [
        "# Create\n",
        "a = set() # empty\n",
        "print(a)  \n",
        "print(type(a))\n",
        "\n",
        "b = [1, 2, 3, 4, 2, 3, 5]\n",
        "b1 = set(b)\n",
        "print(b1)\n",
        "\n",
        "tup = (1, 2, 3, 4, 2, 3, 5)\n",
        "c = set(tup)\n",
        "print(c)\n",
        "\n",
        "d = set(range(0, 11))  \n",
        "print(d)\n",
        "\n",
        "dic = {'a': 1, 'b': 2, 'c': 3}\n",
        "e = set(dic) # only the keys are stored in the set\n",
        "print(e)"
      ]
    },
    {
      "cell_type": "code",
      "execution_count": 28,
      "id": "d3533b89",
      "metadata": {},
      "outputs": [
        {
          "name": "stdout",
          "output_type": "stream",
          "text": [
            "banana\n",
            "cherry\n",
            "apple\n"
          ]
        }
      ],
      "source": [
        "thisset = {\"apple\", \"banana\", \"cherry\"}\n",
        "\n",
        "for x in thisset:\n",
        "  print(x)"
      ]
    },
    {
      "cell_type": "code",
      "execution_count": 29,
      "id": "b7f00123",
      "metadata": {},
      "outputs": [
        {
          "name": "stdout",
          "output_type": "stream",
          "text": [
            "True\n",
            "False\n"
          ]
        }
      ],
      "source": [
        "# Check if \"banana\" is present\n",
        "thisset = {\"apple\", \"banana\", \"cherry\"}\n",
        "\n",
        "print(\"banana\" in thisset)\n",
        "print(\"banana\" not in thisset)"
      ]
    },
    {
      "cell_type": "code",
      "execution_count": 30,
      "id": "51d6f6f7",
      "metadata": {},
      "outputs": [
        {
          "name": "stdout",
          "output_type": "stream",
          "text": [
            "{'banana', 'orange', 'cherry', 'apple'}\n"
          ]
        }
      ],
      "source": [
        "# Add items\n",
        "thisset = {\"apple\", \"banana\", \"cherry\"}\n",
        "thisset.add(\"orange\")\n",
        "print(thisset)\n"
      ]
    },
    {
      "cell_type": "code",
      "execution_count": 31,
      "id": "7b3af0aa",
      "metadata": {},
      "outputs": [
        {
          "name": "stdout",
          "output_type": "stream",
          "text": [
            "{'banana', 'apple', 'pineapple', 'cherry', 'papaya', 'mango'}\n",
            "{'banana', 'apple', 'pineapple', 'kiwi', 'cherry', 'orange', 'papaya', 'mango'}\n"
          ]
        }
      ],
      "source": [
        "# Add sets (any iterable) - Add elements from tropical into thisset:\n",
        "thisset = {\"apple\", \"banana\", \"cherry\"}\n",
        "tropical = {\"pineapple\", \"mango\", \"papaya\"}\n",
        "\n",
        "thisset.update(tropical)\n",
        "print(thisset)\n",
        "\n",
        "mylist = [\"kiwi\", \"orange\"]\n",
        "thisset.update(mylist)\n",
        "print(thisset)"
      ]
    },
    {
      "cell_type": "code",
      "execution_count": 32,
      "id": "f50f2c29",
      "metadata": {},
      "outputs": [
        {
          "name": "stdout",
          "output_type": "stream",
          "text": [
            "{'cherry', 'apple'}\n",
            "{'cherry', 'apple'}\n",
            "banana\n",
            "{'cherry', 'apple'}\n",
            "set()\n"
          ]
        }
      ],
      "source": [
        "# Remove Item\n",
        "thisset = {\"apple\", \"banana\", \"cherry\"}\n",
        "\n",
        "thisset.remove(\"banana\")\n",
        "print(thisset)\n",
        "\n",
        "thisset.discard(\"banana\") # not error if item to remove does not exist\n",
        "print(thisset)\n",
        "\n",
        "# Remove a random item\n",
        "thisset1 = {\"apple\", \"banana\", \"cherry\"}\n",
        "x = thisset1.pop()\n",
        "print(x)\n",
        "print(thisset1)\n",
        "\n",
        "thisset.clear()\n",
        "print(thisset)"
      ]
    },
    {
      "cell_type": "code",
      "execution_count": 33,
      "id": "79faa00e",
      "metadata": {},
      "outputs": [
        {
          "name": "stdout",
          "output_type": "stream",
          "text": [
            "{1, 2, 3, 'b', 'a', 'c'}\n",
            "{1, 2, 3, 'b', 'a', 'c'}\n",
            "{1, 2, 3, 'Elena', 'John', 'cherry', 'bananas', 'apple', 'b', 'a', 'c'}\n"
          ]
        }
      ],
      "source": [
        "# Union\n",
        "set1 = {\"a\", \"b\", \"c\"}\n",
        "set2 = {1, 2, 3}\n",
        "\n",
        "set3 = set1.union(set2)\n",
        "set4 = set1 | set2\n",
        "print(set3)\n",
        "print(set4)\n",
        "\n",
        "set3 = {\"John\", \"Elena\"}\n",
        "set4 = {\"apple\", \"bananas\", \"cherry\"}\n",
        "\n",
        "myset = set1.union(set2, set3, set4)\n",
        "print(myset)"
      ]
    },
    {
      "cell_type": "code",
      "execution_count": 34,
      "id": "348db73b",
      "metadata": {},
      "outputs": [
        {
          "name": "stdout",
          "output_type": "stream",
          "text": [
            "{1, 2, 3, 'b', 'a', 'c'}\n"
          ]
        }
      ],
      "source": [
        "# update() changes the original set, and does not return a new set.\n",
        "set1 = {\"a\", \"b\" , \"c\"}\n",
        "set2 = {1, 2, 3}\n",
        "\n",
        "set1.update(set2)\n",
        "print(set1)"
      ]
    },
    {
      "cell_type": "code",
      "execution_count": 35,
      "id": "707f97d0",
      "metadata": {},
      "outputs": [
        {
          "name": "stdout",
          "output_type": "stream",
          "text": [
            "{'apple'}\n"
          ]
        }
      ],
      "source": [
        "# intersection() method will return a new set, \n",
        "# that only contains the items that are present in both sets.\n",
        "set1 = {\"apple\", \"banana\", \"cherry\"}\n",
        "set2 = {\"google\", \"microsoft\", \"apple\"}\n",
        "\n",
        "set3 = set1.intersection(set2)\n",
        "print(set3)"
      ]
    },
    {
      "cell_type": "code",
      "execution_count": 36,
      "id": "8be305ae",
      "metadata": {},
      "outputs": [
        {
          "name": "stdout",
          "output_type": "stream",
          "text": [
            "{'banana', 'cherry'}\n"
          ]
        }
      ],
      "source": [
        "# Difference\n",
        "set1 = {\"apple\", \"banana\", \"cherry\"}\n",
        "set2 = {\"google\", \"microsoft\", \"apple\"}\n",
        "\n",
        "set3 = set1.difference(set2)\n",
        "\n",
        "print(set3)"
      ]
    },
    {
      "cell_type": "code",
      "execution_count": 37,
      "id": "bdaa934e",
      "metadata": {},
      "outputs": [
        {
          "name": "stdout",
          "output_type": "stream",
          "text": [
            "{'banana', 'cherry'}\n"
          ]
        }
      ],
      "source": [
        "set1 = {\"apple\", \"banana\", \"cherry\"}\n",
        "set2 = {\"google\", \"microsoft\", \"apple\"}\n",
        "\n",
        "set3 = set1 - set2\n",
        "print(set3)\n",
        "# The - operator only allows you to join sets with sets,\n",
        "# and not with other data types like you can with the difference() method."
      ]
    },
    {
      "cell_type": "code",
      "execution_count": 38,
      "id": "66bf06aa",
      "metadata": {},
      "outputs": [
        {
          "name": "stdout",
          "output_type": "stream",
          "text": [
            "{'banana', 'cherry'}\n"
          ]
        }
      ],
      "source": [
        "# difference_update()\n",
        "set1 = {\"apple\", \"banana\", \"cherry\"}\n",
        "set2 = {\"google\", \"microsoft\", \"apple\"}\n",
        "\n",
        "set1.difference_update(set2)\n",
        "\n",
        "print(set1)"
      ]
    },
    {
      "cell_type": "markdown",
      "id": "8548902c",
      "metadata": {},
      "source": [
        "add()\t \tAdds an element to the set  \n",
        "clear()\t \tRemoves all the elements from the set  \n",
        "copy()\t \tReturns a copy of the set  \n",
        "difference()\t-\tReturns a set containing the difference between two or more sets  \n",
        "difference_update()\t-=\tRemoves the items in this set that are also included in another, specified set  \n",
        "discard()\t \tRemove the specified item  \n",
        "intersection()\t&\tReturns a set, that is the intersection of two other sets  \n",
        "intersection_update()\t&=\tRemoves the items in this set that are not present in other, specified set(s)  \n",
        "isdisjoint()\t \tReturns whether two sets have a intersection or not  \n",
        "issubset()\t<=\tReturns True if all items of this set is present in another set  \n",
        " \t<\tReturns True if all items of this set is present in another, larger set  \n",
        "issuperset()\t>=\tReturns True if all items of another set is present in this set  \n",
        " \t>\tReturns True if all items of another, smaller set is present in this set  \n",
        "pop()\t \tRemoves an element from the set  \n",
        "remove()\t \tRemoves the specified element  \n",
        "symmetric_difference()\t^\tReturns a set with the symmetric differences of two sets  \n",
        "symmetric_difference_update()\t^=\tInserts the symmetric differences from this set and another  \n",
        "union()\t|\tReturn a set containing the union of sets  \n",
        "update()\t|=\tUpdate the set with the union of this set and others  "
      ]
    },
    {
      "cell_type": "code",
      "execution_count": 39,
      "id": "95977071",
      "metadata": {},
      "outputs": [],
      "source": [
        "# eg. 查找不同元素\n",
        "\n",
        "answer=[]\n",
        "ans1=[]\n",
        "nums1 = [1, 2, 3, 3]\n",
        "nums2 = [1, 1, 2, 2]\n",
        "\n",
        "a = set(nums1) - set(nums2)\n",
        "b = set(nums2) - set(nums1)\n",
        "li = [list(a),list(b)]"
      ]
    },
    {
      "cell_type": "markdown",
      "id": "561023b6",
      "metadata": {},
      "source": [
        "### Tuple \n",
        "Unlike Python lists, tuples are immutable. "
      ]
    },
    {
      "cell_type": "code",
      "execution_count": 40,
      "id": "f6c433e3",
      "metadata": {},
      "outputs": [
        {
          "name": "stdout",
          "output_type": "stream",
          "text": [
            "2\n",
            "5\n",
            "(1, 2, 3, 4, 2, 3)\n"
          ]
        }
      ],
      "source": [
        "tup = (1, 2, 3, 4, 5)\n",
        "\n",
        "# tuples are indexed\n",
        "print(tup[1])\n",
        "print(tup[4])\n",
        "\n",
        "# tuples contain duplicate elements\n",
        "tup = (1, 2, 3, 4, 2, 3)\n",
        "print(tup)\n",
        "\n",
        "# cannot updating an element\n",
        "# tup[1] = 100"
      ]
    },
    {
      "cell_type": "code",
      "execution_count": 41,
      "id": "04513340",
      "metadata": {},
      "outputs": [
        {
          "name": "stdout",
          "output_type": "stream",
          "text": [
            "1 2 3 4 5 "
          ]
        }
      ],
      "source": [
        "# Traverse through each item in the tuple\n",
        "tup = (1, 2, 3, 4, 5)\n",
        "\n",
        "for x in tup:\n",
        "    print(x, end=\" \")"
      ]
    },
    {
      "cell_type": "code",
      "execution_count": 42,
      "id": "ba2585d0",
      "metadata": {},
      "outputs": [
        {
          "name": "stdout",
          "output_type": "stream",
          "text": [
            "(0, 1, 2, 3, 'python', 'geek')\n"
          ]
        }
      ],
      "source": [
        "# Concatenating above two\n",
        "tup1 = (0, 1, 2, 3)\n",
        "tup2 = ('python', 'geek')\n",
        "\n",
        "print(tup1 + tup2)"
      ]
    },
    {
      "cell_type": "code",
      "execution_count": 43,
      "id": "8bfdaad3",
      "metadata": {},
      "outputs": [
        {
          "name": "stdout",
          "output_type": "stream",
          "text": [
            "((0, 1, 2, 3), ('python', 'geek'))\n"
          ]
        }
      ],
      "source": [
        "# Nested tuples - a tuple inside another tuple.\n",
        "tup1 = (0, 1, 2, 3)\n",
        "tup2 = ('python', 'geek')\n",
        "\n",
        "tup3 = (tup1, tup2)\n",
        "print(tup3)"
      ]
    },
    {
      "cell_type": "code",
      "execution_count": 44,
      "id": "6363dda3",
      "metadata": {},
      "outputs": [
        {
          "name": "stdout",
          "output_type": "stream",
          "text": [
            "('python', 'python', 'python')\n"
          ]
        }
      ],
      "source": [
        "# Repetition\n",
        "tup = ('python',)*3\n",
        "print(tup)"
      ]
    },
    {
      "cell_type": "code",
      "execution_count": 45,
      "id": "06d2cdca",
      "metadata": {},
      "outputs": [
        {
          "name": "stdout",
          "output_type": "stream",
          "text": [
            "(1, 2, 3)\n",
            "(3, 2, 1, 0)\n",
            "(2, 3)\n"
          ]
        }
      ],
      "source": [
        "# Slicing\n",
        "tup = (0 ,1, 2, 3)\n",
        "\n",
        "print(tup[1:])\n",
        "print(tup[::-1])\n",
        "print(tup[2:4])"
      ]
    },
    {
      "cell_type": "code",
      "execution_count": 46,
      "id": "183b8f3a",
      "metadata": {},
      "outputs": [
        {
          "name": "stdout",
          "output_type": "stream",
          "text": [
            "('immutable', True, 23)\n"
          ]
        }
      ],
      "source": [
        "# Different datatypes\n",
        "tup = (\"immutable\", True, 23)\n",
        "print(tup)"
      ]
    },
    {
      "cell_type": "code",
      "execution_count": 47,
      "id": "6ad390ce",
      "metadata": {},
      "outputs": [
        {
          "name": "stdout",
          "output_type": "stream",
          "text": [
            "(0, 1, 2)\n"
          ]
        }
      ],
      "source": [
        "# Converting a list and a string into a tuple\n",
        "a = [0, 1, 2]\n",
        "tup = tuple(a)\n",
        "\n",
        "print(tup)"
      ]
    },
    {
      "cell_type": "code",
      "execution_count": 48,
      "id": "27df06d1",
      "metadata": {},
      "outputs": [
        {
          "name": "stdout",
          "output_type": "stream",
          "text": [
            "(10,)\n",
            "<class 'tuple'>\n",
            "10\n",
            "<class 'int'>\n"
          ]
        }
      ],
      "source": [
        "# Single-element tuple\n",
        "tup = (10, ) # Comma is important here\n",
        "print(tup)  # Output: (10,)\n",
        "print(type(tup))\n",
        "\n",
        "# What if we do not use comma\n",
        "tup = (10) # This an integer (not a tuple)\n",
        "print(tup)  \n",
        "print(type(tup))"
      ]
    },
    {
      "cell_type": "code",
      "execution_count": 49,
      "id": "126cff47",
      "metadata": {},
      "outputs": [
        {
          "name": "stdout",
          "output_type": "stream",
          "text": [
            "(('gfg',),)\n",
            "((('gfg',),),)\n",
            "(((('gfg',),),),)\n",
            "((((('gfg',),),),),)\n",
            "(((((('gfg',),),),),),)\n"
          ]
        }
      ],
      "source": [
        "# Loop\n",
        "tup = ('gfg',)\n",
        "\n",
        "# Number of time loop runs\n",
        "n = 5 \n",
        "for i in range(int(n)):\n",
        "    tup = (tup,)\n",
        "    print(tup)"
      ]
    },
    {
      "cell_type": "markdown",
      "id": "5b7b7342",
      "metadata": {},
      "source": [
        "index( )\tFind in the tuple and returns the index of the given value where it's available  \n",
        "count( )\tReturns the frequency of occurrence of a specified value  \n",
        "all()\tReturns true if all element are true or if tuple is empty  \n",
        "any()\treturn true if any element of the tuple is true. if tuple is empty, return false  \n",
        "len()\tReturns length of the tuple or size of the tuple  \n",
        "enumerate()\tReturns enumerate object of tuple  \n",
        "max()\treturn maximum element of given tuple  \n",
        "min()\treturn minimum element of given tuple  \n",
        "sum()\tSums up the numbers in the tuple  \n",
        "sorted()\tinput elements in the tuple and return a new sorted list  \n",
        "tuple()\tConvert an iterable to a tuple.  "
      ]
    },
    {
      "cell_type": "markdown",
      "id": "a37adbe1",
      "metadata": {},
      "source": [
        "### 字典"
      ]
    },
    {
      "cell_type": "code",
      "execution_count": 50,
      "id": "96043ae9",
      "metadata": {},
      "outputs": [],
      "source": [
        "# 创建字典\n",
        "a = {}\n",
        "a = dict()"
      ]
    },
    {
      "cell_type": "code",
      "execution_count": 51,
      "id": "a885d963",
      "metadata": {},
      "outputs": [
        {
          "name": "stdout",
          "output_type": "stream",
          "text": [
            "{'HUST': 'study', 'WHU': 'play', 'ZUEL': 'eat', 'CCNU': 'love', 'WHUT': '???', 'HZAU': 'farm', 'CUG': 'jewelry'}\n",
            "jewelry\n",
            "{'HUST': 'study', 'WHU': 'play', 'ZUEL': 'eat', 'CCNU': 'love', 'HZAU': 'farm'}\n"
          ]
        }
      ],
      "source": [
        "# 添加/修改/删除字典元素\n",
        "\n",
        "a_dict = {\"HUST\":\"study\", \"WHU\":\"play\", \"ZUEL\":\"eat\", \"CCNU\":\"love\"}\n",
        "\n",
        "# []添加修改，有值就修改，没有就创建\n",
        "a_dict[\"WHUT\"] = \"???\"      # 方括号\n",
        "\n",
        "# setdefault，key已存在就不修改，防止覆盖\n",
        "a_dict.setdefault(\"HZAU\", \"farm\")  # setdefault 函数\n",
        "\n",
        "# update(dict) 添加一个dict到另一个dict\n",
        "temp = {\"CUG\":\"jewelry\"}\n",
        "a_dict.update(temp)  # update 函数 创建新字典并加进去\n",
        " \n",
        "print(a_dict)  # {'HUST': 'study', 'WHU': 'play', 'ZUEL': 'eat', 'CCNU': 'love', 'WHUT': '???', 'HZAU': 'farm', 'CUG': 'jewelry'}\n",
        "\n",
        "# 删除\n",
        "a_dict = {'HUST': 'study', 'WHU': 'play', 'ZUEL': 'eat', 'CCNU': 'love', 'WHUT': '???', 'HZAU': 'farm', 'CUG': 'jewelry'}\n",
        "del a_dict['WHUT']\n",
        "print(a_dict.pop(\"CUG\")) # 返回删除的key对应的value\n",
        "print(a_dict)  # {'HUST': 'study', 'WHU': 'play', 'ZUEL': 'eat', 'CCNU': 'love', 'HZAU': 'farm'}"
      ]
    },
    {
      "cell_type": "code",
      "execution_count": null,
      "id": "cad80749",
      "metadata": {},
      "outputs": [],
      "source": [
        "# get()\n",
        "\n",
        "# get，[] 和 setdefault的区别：\n",
        "# get不修改字典，\n",
        "# setdefault会修改字典（但会防止覆盖），\n",
        "# []会真的修改\n",
        "my_dict = {'name': 'Alice', 'age': 30, 'city': 'New York'}\n",
        "\n",
        "# Key exists, no default value\n",
        "value1 = my_dict.get('name')\n",
        "print(f\"Value for 'name': {value1}\")  # Output: Value for 'name': Alice\n",
        "\n",
        "# Key exists, with default value (which is ignored)\n",
        "value2 = my_dict.get('age', 0)\n",
        "print(f\"Value for 'age': {value2}\")   # Output: Value for 'age': 30\n",
        "\n",
        "# Key does not exist, no default value (returns None)\n",
        "value3 = my_dict.get('country')\n",
        "print(f\"Value for 'country': {value3}\") # Output: Value for 'country': None\n",
        "\n",
        "# Key does not exist, with default value\n",
        "value4 = my_dict.get('occupation', 'Unemployed')\n",
        "print(f\"Value for 'occupation': {value4}\") # Output: Value for 'occupation': Unemployed"
      ]
    },
    {
      "cell_type": "code",
      "execution_count": 4,
      "id": "7a7ec1e5",
      "metadata": {},
      "outputs": [
        {
          "name": "stdout",
          "output_type": "stream",
          "text": [
            "???\n",
            "eat\n",
            "dict_values(['study', 'play', '???', 'love'])\n",
            "dict_keys(['HUST', 'WHU', 'WHUT', 'CCNU'])\n"
          ]
        }
      ],
      "source": [
        "# 访问\n",
        "a_dict = {\"HUST\":\"study\", \"WHU\":\"play\", \"WHUT\":\"???\", \"CCNU\":\"love\"}\n",
        "print(a_dict[\"WHUT\"])  # ???\n",
        "print(a_dict.get(\"ZUEL\", \"eat\")) # key 不存在，返回 eat\n",
        "\n",
        "print(a_dict.values()) # list\n",
        "print(a_dict.keys())"
      ]
    },
    {
      "cell_type": "code",
      "execution_count": 2,
      "id": "42b2e1ff",
      "metadata": {},
      "outputs": [
        {
          "name": "stdout",
          "output_type": "stream",
          "text": [
            "b\n"
          ]
        }
      ],
      "source": [
        "# 根据value查找key\n",
        "d = {'a': 1, 'b': 2, 'c': 3}\n",
        "\n",
        "value = 2\n",
        "key = [k for k, v in d.items() if v == value][0] # dict.items() 作用：返回一个 视图对象，里面是字典的 (key, value) 对。\n",
        "\n",
        "print(key)  # 输出 'b'"
      ]
    },
    {
      "cell_type": "code",
      "execution_count": 53,
      "id": "62574b50",
      "metadata": {},
      "outputs": [
        {
          "name": "stdout",
          "output_type": "stream",
          "text": [
            "7\n"
          ]
        }
      ],
      "source": [
        "# 个数\n",
        "a_dict = {'HUST': 'study', 'WHU': 'play', 'ZUEL': 'eat', 'CCNU': 'love', 'WHUT': '???', 'HZAU': 'vegetable field', 'CUG': 'jewelry'}\n",
        "print(len(a_dict))  # 7"
      ]
    },
    {
      "cell_type": "code",
      "execution_count": 59,
      "id": "8023fcff",
      "metadata": {},
      "outputs": [
        {
          "name": "stdout",
          "output_type": "stream",
          "text": [
            "{'???', 'play', 'love', 'study'}\n",
            "{'WHUT', 'HUST', 'CCNU', 'WHU'}\n"
          ]
        }
      ],
      "source": [
        "# 转数据结构\n",
        "\n",
        "a_dict = {\"HUST\":\"study\", \"WHU\":\"play\", \"WHUT\":\"???\", \"CCNU\":\"love\"}\n",
        "print(set(a_dict.values()))\n",
        "print(set(a_dict.keys()))"
      ]
    },
    {
      "cell_type": "markdown",
      "id": "aae433eb",
      "metadata": {},
      "source": [
        "dict.clear()       # 清空字典  \n",
        "dict.items()       # 以列表形式返回可遍历的(key, value)元组类型数组  \n",
        "dict.keys()        # 以列表形式返回字典中所有的 key  \n",
        "dict.values()      # 以列表形式返回字典中所有的 value  \n",
        "dict.has_key(key)  # 如果键 key 在字典中则返回 True  \n",
        "key in dict        # 如果键 key 在字典中则返回 True  \n",
        "dict.popitem()     # 随即返回并删除一个键值对，并以(key, value)元组方式返回  "
      ]
    },
    {
      "cell_type": "markdown",
      "id": "eb16c09d",
      "metadata": {},
      "source": [
        "### 经典类定义"
      ]
    },
    {
      "cell_type": "markdown",
      "id": "e6d8cde9",
      "metadata": {},
      "source": [
        "#### 栈 - list"
      ]
    },
    {
      "cell_type": "code",
      "execution_count": null,
      "id": "fb5f7e11",
      "metadata": {},
      "outputs": [],
      "source": [
        "stack = []\n",
        "stack.append(1)   # 入栈\n",
        "stack.append(2)\n",
        "print(stack.pop())  # 出栈 → 2\n",
        "print(stack.pop())  # 出栈 → 1"
      ]
    },
    {
      "cell_type": "markdown",
      "id": "66a6cde2",
      "metadata": {},
      "source": [
        "#### 队列 - collections库"
      ]
    },
    {
      "cell_type": "code",
      "execution_count": null,
      "id": "bd63b2fe",
      "metadata": {},
      "outputs": [],
      "source": [
        "from collections import deque\n",
        "queue = deque()\n",
        "queue.append(1)     # 入队\n",
        "queue.append(2)\n",
        "print(queue.popleft())  # 出队 → 1\n",
        "print(queue.popleft())  # 出队 → 2\n"
      ]
    },
    {
      "cell_type": "markdown",
      "id": "2336716c",
      "metadata": {},
      "source": [
        "#### 哈希表 - dict"
      ]
    },
    {
      "cell_type": "code",
      "execution_count": null,
      "id": "1aedc618",
      "metadata": {},
      "outputs": [],
      "source": [
        "# 哈希表：key -> value\n",
        "hash_map = {}\n",
        "\n",
        "# 插入\n",
        "hash_map[\"apple\"] = 3\n",
        "hash_map[\"banana\"] = 5\n",
        "\n",
        "# 查找\n",
        "print(hash_map[\"apple\"])  # 3\n",
        "\n",
        "# 判断 key 是否存在\n",
        "print(\"banana\" in hash_map)  # True\n",
        "\n",
        "# 删除\n",
        "del hash_map[\"apple\"]\n"
      ]
    },
    {
      "cell_type": "markdown",
      "id": "f6d1e997",
      "metadata": {},
      "source": [
        "#### 二叉树"
      ]
    },
    {
      "cell_type": "code",
      "execution_count": null,
      "id": "3dee380c",
      "metadata": {},
      "outputs": [],
      "source": [
        "class TreeNode(object):\n",
        "    def __init__(self, val=0, left=None, right=None):\n",
        "        self.val = val\n",
        "        self.left = left\n",
        "        self.right = right"
      ]
    },
    {
      "cell_type": "markdown",
      "id": "1551218a",
      "metadata": {},
      "source": [
        "#### 链表"
      ]
    },
    {
      "cell_type": "code",
      "execution_count": null,
      "id": "73a36e9c",
      "metadata": {},
      "outputs": [],
      "source": [
        "class ListNode(object):\n",
        "    def __init__(self, val=0, next=None):\n",
        "        self.val = val\n",
        "        self.next = next"
      ]
    },
    {
      "cell_type": "markdown",
      "id": "cc8b31b8",
      "metadata": {},
      "source": [
        "### 其他库"
      ]
    },
    {
      "cell_type": "markdown",
      "id": "3b7b7045",
      "metadata": {},
      "source": [
        "#### all ()"
      ]
    },
    {
      "cell_type": "code",
      "execution_count": null,
      "id": "16a0e9b7",
      "metadata": {},
      "outputs": [
        {
          "name": "stdout",
          "output_type": "stream",
          "text": [
            "True\n",
            "True\n",
            "True\n"
          ]
        }
      ],
      "source": [
        "# Check if all items in a list are True:\n",
        "mylist = [True, True, True]\n",
        "x = all(mylist)\n",
        "print(x)\n",
        "\n",
        "# Check if all items in a dictionary are True:\n",
        "\n",
        "mydict = {0 : \"Apple\", 1 : \"Orange\"}\n",
        "y = all(mydict) # 迭代key，0-False, 1-True\n",
        "z = all(mydict.values())\n",
        "print(y)\n",
        "print(z)"
      ]
    },
    {
      "cell_type": "markdown",
      "id": "1e4e8d46",
      "metadata": {},
      "source": [
        "#### in"
      ]
    },
    {
      "cell_type": "code",
      "execution_count": null,
      "id": "b6cefd00",
      "metadata": {},
      "outputs": [],
      "source": [
        "# 查找元素是否是元音字母\n",
        "def checkVow(c):\n",
        "    vowlist = ['a', 'e', 'i', 'o', 'u']\n",
        "    if c in vowlist:\n",
        "        return True\n",
        "    return False"
      ]
    },
    {
      "cell_type": "code",
      "execution_count": null,
      "id": "a3c2cdbe",
      "metadata": {},
      "outputs": [],
      "source": [
        "answer=[]\n",
        "ans1=[]\n",
        "nums1 = [1, 2, 3, 3]\n",
        "nums2 = [1, 1, 2, 2]\n",
        "for i in nums1:\n",
        "    if i not in ans1 and i not in nums2:\n",
        "        ans1.append(i)\n",
        "answer.append(ans1)\n",
        "ans2=[]\n",
        "for j in nums2:\n",
        "    if j not in ans2 and j not in nums1:\n",
        "        ans2.append(j)\n",
        "answer.append(ans2)"
      ]
    },
    {
      "cell_type": "markdown",
      "id": "54e554e6",
      "metadata": {},
      "source": [
        "#### sort() & sorted()"
      ]
    },
    {
      "cell_type": "markdown",
      "id": "dc87e189",
      "metadata": {},
      "source": [
        "sorted(iterable)  \n",
        "\n",
        "内置函数，可以作用在任何可迭代对象上（list、tuple、set、dict、string...）。  \n",
        "\n",
        "返回一个新的排序好的列表，不会改变原对象。  \n",
        "\n",
        "返回值是排序好的 新列表。  "
      ]
    },
    {
      "cell_type": "code",
      "execution_count": null,
      "id": "68d21900",
      "metadata": {},
      "outputs": [],
      "source": [
        "nums = [3, 1, 2]\n",
        "new_nums = sorted(nums)  \n",
        "print(new_nums)  # [1, 2, 3]\n",
        "print(nums)      # [3, 1, 2]  原列表没变\n"
      ]
    },
    {
      "cell_type": "markdown",
      "id": "45dca6f1",
      "metadata": {},
      "source": [
        "list.sort()  \n",
        "\n",
        "列表（list）的方法，只能用在列表上。  \n",
        "\n",
        "就地排序（in-place），直接修改原列表，不会生成新的列表。  \n",
        "\n",
        "返回值是 None，所以不能直接赋值。  "
      ]
    },
    {
      "cell_type": "code",
      "execution_count": null,
      "id": "48553163",
      "metadata": {},
      "outputs": [],
      "source": [
        "nums = [3, 1, 2]\n",
        "nums.sort()       # 在原地排序\n",
        "print(nums)       # [1, 2, 3]\n",
        "print(nums.sort()) # None （不能这样用）\n"
      ]
    },
    {
      "cell_type": "markdown",
      "id": "c7529804",
      "metadata": {},
      "source": [
        "#### NumPy"
      ]
    },
    {
      "cell_type": "code",
      "execution_count": null,
      "id": "4704427f",
      "metadata": {},
      "outputs": [],
      "source": [
        "# numpy -> list： tolist()\n",
        "import numpy as np\n",
        "\n",
        "arr = np.array([\n",
        "    [1, 2, 3],\n",
        "    [4, 5, 6]\n",
        "])\n",
        "lst = arr.tolist()\n",
        "print(lst)\n",
        "# [[1, 2, 3], [4, 5, 6]]\n",
        "print(type(lst))  \n",
        "# <class 'list'>\n"
      ]
    },
    {
      "cell_type": "code",
      "execution_count": 4,
      "id": "d9a55d26",
      "metadata": {},
      "outputs": [
        {
          "name": "stdout",
          "output_type": "stream",
          "text": [
            "[array([1, 4]), array([2, 5]), array([3, 6])]\n"
          ]
        }
      ],
      "source": [
        "# 转置\n",
        "\n",
        "import numpy as np\n",
        "\n",
        "matrix = np.array([\n",
        "    [1, 2, 3],\n",
        "    [4, 5, 6]\n",
        "])\n",
        "a = list(matrix.T)\n",
        "print(a)\n",
        "# [[1 4]\n",
        "#  [2 5]\n",
        "#  [3 6]]\n"
      ]
    },
    {
      "cell_type": "markdown",
      "id": "55532f4d",
      "metadata": {},
      "source": [
        "#### copy库"
      ]
    },
    {
      "cell_type": "code",
      "execution_count": null,
      "id": "36190e46",
      "metadata": {},
      "outputs": [
        {
          "data": {
            "text/plain": [
              "[0, 1]"
            ]
          },
          "execution_count": 68,
          "metadata": {},
          "output_type": "execute_result"
        }
      ],
      "source": [
        "# 深拷贝（改原数组值不影响现有值）\n",
        "import copy\n",
        "arr = [0, 1]\n",
        "deepcp = copy.deepcopy(arr)\n",
        "arr[0] = 5\n",
        "deepcp"
      ]
    },
    {
      "cell_type": "markdown",
      "id": "e235804c",
      "metadata": {},
      "source": [
        "#### collections - Counter"
      ]
    },
    {
      "cell_type": "code",
      "execution_count": 1,
      "id": "aa915c6d",
      "metadata": {},
      "outputs": [
        {
          "name": "stdout",
          "output_type": "stream",
          "text": [
            "Counter({4: 4, 3: 3, 2: 2, 1: 1})\n"
          ]
        }
      ],
      "source": [
        "from collections import Counter\n",
        "# Create a list of items\n",
        "num = [1, 2, 2, 3, 3, 3, 4, 4, 4, 4]\n",
        "\n",
        "# Use Counter to count occurrences\n",
        "cnt = Counter(num)\n",
        "print(cnt)"
      ]
    },
    {
      "cell_type": "code",
      "execution_count": 2,
      "id": "156c2bac",
      "metadata": {},
      "outputs": [
        {
          "name": "stdout",
          "output_type": "stream",
          "text": [
            "Counter({3: 3, 2: 2, 1: 1})\n",
            "Counter({2: 3, 1: 2, 3: 1})\n",
            "Counter({'l': 2, 'h': 1, 'e': 1, 'o': 1})\n"
          ]
        }
      ],
      "source": [
        "from collections import Counter\n",
        "ctr1 = Counter([1, 2, 2, 3, 3, 3]) # From a list\n",
        "ctr2 = Counter({1: 2, 2: 3, 3: 1}) # From a dictionary\n",
        "ctr3 = Counter('hello') # From a string\n",
        "\n",
        "print(ctr1)\n",
        "print(ctr2)\n",
        "print(ctr3)"
      ]
    },
    {
      "cell_type": "code",
      "execution_count": null,
      "id": "d7ac8550",
      "metadata": {},
      "outputs": [
        {
          "name": "stdout",
          "output_type": "stream",
          "text": [
            "(3, 1, 2, 2)\n",
            "row_counts =  Counter({(2, 4, 2, 2): 2, (3, 1, 2, 2): 1, (1, 4, 4, 5): 1})\n",
            "{(3, 1, 2, 2): 1, (1, 4, 4, 5): 1, (2, 4, 2, 2): 2}\n",
            "3\n"
          ]
        }
      ],
      "source": [
        "import collections\n",
        "count = 0\n",
        "grid = [[3,1,2,2],[1,4,4,5],[2,4,2,2],[2,4,2,2]]\n",
        "n = len(grid)\n",
        "\n",
        "# 1. 使用 Counter 统计每一行出现的频率\n",
        "# 将行(list)转换为元组(tuple)才能作为哈希表的键\n",
        "row_counts = collections.Counter(tuple(row) for row in grid)\n",
        "print(tuple(grid[0]))\n",
        "print('row_counts = ', row_counts)\n",
        "print(dict(row_counts))\n",
        "\n",
        "# 构造列（转置）\n",
        "for j in range(n):\n",
        "    current_col = []\n",
        "    for i in range(n):\n",
        "        current_col.append(grid[i][j])\n",
        "    \n",
        "    # 在哈希表中查找该列，并累加其出现的次数\n",
        "    # tuple(current_col) 可以在 row_counts 中查找\n",
        "    # 如果不存在，get 方法会返回默认值 0\n",
        "    count += row_counts.get(tuple(current_col), 0)\n",
        "print(count)"
      ]
    },
    {
      "cell_type": "markdown",
      "id": "059f9877",
      "metadata": {},
      "source": [
        "#### bisect库 - 二分查找\n",
        "bisect_left(a, x) ：返回第一个 >= x 的位置  \n",
        "bisect_right(a, x)：返回第一个 > x 的位置"
      ]
    },
    {
      "cell_type": "code",
      "execution_count": 1,
      "id": "79a235b3",
      "metadata": {},
      "outputs": [
        {
          "name": "stdout",
          "output_type": "stream",
          "text": [
            "2\n",
            "3\n",
            "0\n",
            "4\n"
          ]
        }
      ],
      "source": [
        "import bisect\n",
        "\n",
        "a = [1, 3, 4, 7]\n",
        "\n",
        "print(bisect.bisect_left(a, 4))  # 输出 2，因为 a[2] == 4\n",
        "print(bisect.bisect_left(a, 5))  # 输出 3，要插入在 7 前面\n",
        "print(bisect.bisect_left(a, 0))  # 输出 0，要插在最前面\n",
        "print(bisect.bisect_left(a, 10)) # 输出 4，要插在最后面\n"
      ]
    },
    {
      "cell_type": "markdown",
      "id": "02e8ac6d",
      "metadata": {},
      "source": [
        "#### 全局变量"
      ]
    },
    {
      "cell_type": "code",
      "execution_count": null,
      "id": "1c8a0d79",
      "metadata": {},
      "outputs": [],
      "source": [
        "class Solution(object):\n",
        "    ans = -float('inf')\n",
        "    def maxPathSum(self, root):\n",
        "        \"\"\"\n",
        "        :type root: Optional[TreeNode]\n",
        "        :rtype: int\n",
        "        \"\"\"\n",
        "        def f(i):\n",
        "            if i is None:\n",
        "                return 0\n",
        "            left = f(i.left)\n",
        "            right = f(i.right)\n",
        "            v = i.val\n",
        "            self.ans = max(self.ans, left + right + v)\n",
        "            return max(max(left, right) + v, 0) # 如果子链上的和为负数，那么就断开这条链从父节点当起点 \n",
        "        f(root)\n",
        "        return self.ans"
      ]
    },
    {
      "cell_type": "markdown",
      "id": "2d06fcd9",
      "metadata": {},
      "source": [
        "#### 数据类型之间的转换"
      ]
    },
    {
      "cell_type": "code",
      "execution_count": 3,
      "id": "0a8b2129",
      "metadata": {},
      "outputs": [
        {
          "data": {
            "text/plain": [
              "0.2"
            ]
          },
          "execution_count": 3,
          "metadata": {},
          "output_type": "execute_result"
        }
      ],
      "source": [
        "# 整数除法要变成小数的话，可以把分母转换成float类型\n",
        "s = 1\n",
        "k = 5\n",
        "s/float(k)"
      ]
    },
    {
      "cell_type": "markdown",
      "id": "82a50893",
      "metadata": {},
      "source": [
        "#### ACM模式"
      ]
    },
    {
      "cell_type": "markdown",
      "id": "d96407a3",
      "metadata": {},
      "source": [
        "固定式输入 - 给定输入的数据量长度  \n",
        "eg. 第一行一个整数n，第二行长度为n的整数  \n",
        "5  \n",
        "1 2 3 4 5"
      ]
    },
    {
      "cell_type": "code",
      "execution_count": 2,
      "id": "0cf5a839",
      "metadata": {},
      "outputs": [
        {
          "name": "stdout",
          "output_type": "stream",
          "text": [
            "[1, 2, 3, 4, 5]\n"
          ]
        }
      ],
      "source": [
        "n = int(input())\n",
        "array = list(map(int, input().split(' ')))\n",
        "print(array)"
      ]
    },
    {
      "cell_type": "markdown",
      "id": "d7f029f9",
      "metadata": {},
      "source": [
        "不固定输入 - 一行内数量不确定  \n",
        "eg. 1 2 3 4 5 6..."
      ]
    },
    {
      "cell_type": "code",
      "execution_count": 5,
      "id": "93c15020",
      "metadata": {},
      "outputs": [
        {
          "name": "stdout",
          "output_type": "stream",
          "text": [
            "[1, 2, 3, 4, 5, 6]\n"
          ]
        }
      ],
      "source": [
        "data = list(map(int, input().split()))\n",
        "print(data)"
      ]
    },
    {
      "cell_type": "markdown",
      "id": "f0b7f56f",
      "metadata": {},
      "source": [
        "不固定输入 - 数据组数不确定  "
      ]
    },
    {
      "cell_type": "code",
      "execution_count": null,
      "id": "1d86accc",
      "metadata": {},
      "outputs": [],
      "source": [
        "import sys\n",
        "for line in sys.stdin:\n",
        "    # 先读每组第一个数（每组的数据个数）\n",
        "    cnt = int(line)\n",
        "    print(cnt)\n",
        "    # 读下一行作为该组的具体内容\n",
        "    data_line = sys.stdin.readline().strip() # strip为去掉末尾空白字符\n",
        "    data = list(map(int, data_line.split()))\n",
        "    print(data)"
      ]
    },
    {
      "cell_type": "markdown",
      "id": "a05999ee",
      "metadata": {},
      "source": [
        "不固定输入 - 组数不定，每组数据也不定"
      ]
    },
    {
      "cell_type": "code",
      "execution_count": null,
      "id": "fa4aac1c",
      "metadata": {},
      "outputs": [],
      "source": [
        "import sys\n",
        "for line in sys.stdin:\n",
        "    data = list(map(int, line.split()))"
      ]
    },
    {
      "cell_type": "markdown",
      "id": "fbcf08b0",
      "metadata": {},
      "source": [
        "输出"
      ]
    },
    {
      "cell_type": "code",
      "execution_count": 6,
      "id": "62636245",
      "metadata": {},
      "outputs": [
        {
          "name": "stdout",
          "output_type": "stream",
          "text": [
            "61 2 3 4 5\n"
          ]
        }
      ],
      "source": [
        "print(6, end='') # print()默认换行，end参数自定义末尾符\n",
        "# 注意行末的空格和换行\n",
        "\n",
        "arr = [1,2,3,4,5]\n",
        "print(' '.join(map(str, arr))) # 先转字符串，用join拼接"
      ]
    },
    {
      "cell_type": "markdown",
      "id": "7a3b3b67",
      "metadata": {},
      "source": [
        "### 行测\n",
        "#### 图形题\n",
        "求同法则\n",
        "平移 左右/上下\n",
        "九宫格 - 横排/竖排规律\n",
        "宝塔形状 - 两个叠加"
      ]
    },
    {
      "cell_type": "markdown",
      "id": "699a556c",
      "metadata": {},
      "source": [
        "### 面试"
      ]
    },
    {
      "cell_type": "markdown",
      "id": "e442f522",
      "metadata": {},
      "source": [
        "#### 算法问题"
      ]
    },
    {
      "cell_type": "markdown",
      "id": "e3742da7",
      "metadata": {},
      "source": [
        "##### 快速排序 \n",
        "快速排序是一种 分治（Divide and Conquer） 思想的排序算法：  \n",
        "\n",
        "选一个基准值（pivot）一般选数组中的第一个、最后一个，或者中间的元素。  \n",
        "\n",
        "分区（partition）把数组分成两部分：  \n",
        "\n",
        "左边：小于等于 pivot 的元素  \n",
        "右边：大于 pivot 的元素  \n",
        "\n",
        "递归排序\n",
        "分别对左边和右边的子数组递归执行快速排序。  \n",
        "\n",
        "合并\n",
        "因为是原地排序（in-place），不需要额外合并，分区完成后数组就逐渐有序。  \n"
      ]
    },
    {
      "cell_type": "code",
      "execution_count": 2,
      "id": "c4f6fa8c",
      "metadata": {},
      "outputs": [
        {
          "name": "stdout",
          "output_type": "stream",
          "text": [
            "[1, 1, 2, 3, 6, 8, 10]\n"
          ]
        }
      ],
      "source": [
        "# 简单写法\n",
        "def quick_sort(arr):\n",
        "    if len(arr) <= 1:\n",
        "        return arr\n",
        "    pivot = arr[len(arr) // 2]   # 选择中间元素作为基准\n",
        "    left = [x for x in arr if x < pivot]\n",
        "    mid = [x for x in arr if x == pivot]\n",
        "    right = [x for x in arr if x > pivot]\n",
        "    return quick_sort(left) + mid + quick_sort(right)\n",
        "\n",
        "# 示例\n",
        "nums = [3, 6, 8, 10, 1, 2, 1]\n",
        "print(quick_sort(nums))  # [1, 1, 2, 3, 6, 8, 10]"
      ]
    },
    {
      "cell_type": "code",
      "execution_count": 1,
      "id": "f24d076f",
      "metadata": {},
      "outputs": [
        {
          "name": "stdout",
          "output_type": "stream",
          "text": [
            "[1, 5, 7, 8, 9, 10]\n"
          ]
        }
      ],
      "source": [
        "# 📌 Python 实现 in-place\n",
        "def partition(arr, low, high):\n",
        "    pivot = arr[high]   # 选最后一个元素作为基准\n",
        "    i = low - 1\n",
        "    for j in range(low, high):\n",
        "        if arr[j] <= pivot:   # 小于等于 pivot 的放左边\n",
        "            i += 1\n",
        "            arr[i], arr[j] = arr[j], arr[i]\n",
        "    arr[i+1], arr[high] = arr[high], arr[i+1]\n",
        "    return i + 1\n",
        "\n",
        "def quick_sort_inplace(arr, low, high):\n",
        "    if low < high:\n",
        "        pi = partition(arr, low, high)  # 划分位置\n",
        "        quick_sort_inplace(arr, low, pi - 1)\n",
        "        quick_sort_inplace(arr, pi + 1, high)\n",
        "\n",
        "# 示例\n",
        "nums = [10, 7, 8, 9, 1, 5]\n",
        "quick_sort_inplace(nums, 0, len(nums) - 1)\n",
        "print(nums)  # [1, 5, 7, 8, 9, 10]\n",
        "\n",
        "# 平均情况：O(n log n)\n",
        "# 最坏情况（每次 pivot 都是最大/最小值）：O(n²)\n",
        "# 空间复杂度：O(log n)（递归栈）"
      ]
    },
    {
      "cell_type": "markdown",
      "id": "d8c09055",
      "metadata": {},
      "source": [
        "#### AI"
      ]
    },
    {
      "cell_type": "markdown",
      "id": "36025cd6",
      "metadata": {},
      "source": [
        "##### 极大似然估计 (Maximum Likelihood Estimation, MLE)\n",
        "\n",
        "已知样本集合\n",
        "$$\n",
        "X=\\{x_1,x_2,\\dots,x_n\\}\n",
        "$$\n",
        "来自参数为 $\\theta$ 的概率分布 $p(x|\\theta)$，目标是找到参数估计 $\\hat\\theta$，使得在该参数下观测到数据的概率最大。\n",
        "\n",
        "---\n",
        "\n",
        "**似然函数**定义为样本联合分布关于参数 $\\theta$ 的函数：\n",
        "$$\n",
        "L(\\theta)=p(x_1,x_2,\\dots,x_n\\mid\\theta).\n",
        "$$\n",
        "若样本独立同分布 (i.i.d.)，则\n",
        "$$\n",
        "L(\\theta)=\\prod_{i=1}^n p(x_i\\mid\\theta).\n",
        "$$\n",
        "\n",
        "为便于计算，通常取对数似然：\n",
        "$$\n",
        "\\ell(\\theta)=\\ln L(\\theta)=\\sum_{i=1}^n \\ln p(x_i\\mid\\theta).\n",
        "$$\n",
        "\n",
        "**MLE 定义**：\n",
        "$$\n",
        "\\hat\\theta_{\\mathrm{MLE}}=\\arg\\max_\\theta L(\\theta)=\\arg\\max_\\theta \\ell(\\theta).\n",
        "$$\n",
        "\n",
        "---\n",
        "\n",
        "示例推导\n",
        "\n",
        "1) 伯努利分布（Bernoulli）\n",
        "假设 $X_i\\sim\\mathrm{Bernoulli}(p)$，观测值 $x_i\\in\\{0,1\\}$，概率质量函数：\n",
        "$$\n",
        "p(x_i\\mid p)=p^{x_i}(1-p)^{1-x_i}.\n",
        "$$\n",
        "似然函数：\n",
        "$$\n",
        "L(p)=\\prod_{i=1}^n p^{x_i}(1-p)^{1-x_i}.\n",
        "$$\n",
        "对数似然：\n",
        "$$\n",
        "\\ell(p)=\\sum_{i=1}^n\\big[x_i\\ln p+(1-x_i)\\ln(1-p)\\big].\n",
        "$$\n",
        "求导并令 0：\n",
        "$$\n",
        "\\frac{d\\ell}{dp}=\\frac{\\sum_{i=1}^n x_i}{p}-\\frac{n-\\sum_{i=1}^n x_i}{1-p}=0.\n",
        "$$\n",
        "解得：\n",
        "$$\n",
        "\\hat p_{\\mathrm{MLE}}=\\frac{1}{n}\\sum_{i=1}^n x_i.\n",
        "$$\n",
        "二阶导数：\n",
        "$$\n",
        "\\frac{d^2\\ell}{dp^2}=-\\frac{\\sum x_i}{p^2}-\\frac{n-\\sum x_i}{(1-p)^2}<0,\n",
        "$$\n",
        "因此为极大值。\n",
        "\n",
        "---\n",
        "\n",
        "2) 正态分布（Normal）\n",
        "设 $X_i\\sim\\mathcal N(\\mu,\\sigma^2)$。\n",
        "\n",
        "**(A) $\\sigma^2$ 已知，求 $\\mu$：**  \n",
        "似然函数：\n",
        "$$\n",
        "L(\\mu)=\\prod_{i=1}^n\\frac{1}{\\sqrt{2\\pi\\sigma^2}}\\exp\\!\\Big(-\\frac{(x_i-\\mu)^2}{2\\sigma^2}\\Big).\n",
        "$$\n",
        "对数似然：\n",
        "$$\n",
        "\\ell(\\mu)=-\\frac{n}{2}\\ln(2\\pi\\sigma^2)-\\frac{1}{2\\sigma^2}\\sum_{i=1}^n (x_i-\\mu)^2.\n",
        "$$\n",
        "对 $\\mu$ 求导并令 0：\n",
        "$$\n",
        "\\frac{d\\ell}{d\\mu}=\\frac{1}{\\sigma^2}\\sum_{i=1}^n (x_i-\\mu)=0\n",
        "\\quad\\Rightarrow\\quad\n",
        "\\hat\\mu=\\bar x=\\frac{1}{n}\\sum_{i=1}^n x_i.\n",
        "$$\n",
        "\n",
        "**(B) $\\mu$ 与 $\\sigma^2$ 均未知：**  \n",
        "联合对数似然：\n",
        "$$\n",
        "\\ell(\\mu,\\sigma^2)=-\\frac{n}{2}\\ln(2\\pi\\sigma^2)-\\frac{1}{2\\sigma^2}\\sum_{i=1}^n (x_i-\\mu)^2.\n",
        "$$\n",
        "对 $\\mu$ 求偏导得到 $\\hat\\mu=\\bar x$（同上）。将 $\\mu=\\bar x$ 代入，对 $\\sigma^2$ 求导并令 0：\n",
        "$$\n",
        "\\frac{\\partial\\ell}{\\partial\\sigma^2}=-\\frac{n}{2\\sigma^2}+\\frac{1}{2(\\sigma^2)^2}\\sum_{i=1}^n (x_i-\\bar x)^2=0\n",
        "$$\n",
        "解得\n",
        "$$\n",
        "\\widehat{\\sigma}^2_{\\mathrm{MLE}}=\\frac{1}{n}\\sum_{i=1}^n (x_i-\\bar x)^2.\n",
        "$$\n",
        "注意：该 MLE 用 $1/n$，是有偏的；若要无偏估计通常使用样本方差公式 $\\displaystyle s^2=\\frac{1}{n-1}\\sum (x_i-\\bar x)^2$。\n",
        "\n",
        "---\n",
        "\n",
        "MLE 的常见性质（在常规正则性条件下）\n",
        "- **一致性 (Consistency)**：$ \\hat\\theta_{MLE}\\xrightarrow{p}\\theta $（样本量 $n\\to\\infty$ 时收敛到真值）。  \n",
        "- **渐近正态性 (Asymptotic Normality)**：大样本下\n",
        "  $$\n",
        "  \\sqrt{n}(\\hat\\theta-\\theta)\\xrightarrow{d}\\mathcal N(0, I(\\theta)^{-1}),\n",
        "  $$\n",
        "  其中 Fisher 信息\n",
        "  $$\n",
        "  I(\\theta) = -\\mathbb E\\!\\left[\\frac{\\partial^2}{\\partial\\theta^2}\\ell(\\theta)\\right].\n",
        "  $$\n",
        "- **渐近有效性 (Asymptotic Efficiency)**：在大样本下 MLE 达到 Cramér–Rao 下界（即方差最小）。\n",
        "\n",
        "---\n",
        "\n",
        "常见分布的 MLE 汇总表\n",
        "\n",
        "| 分布 | 参数 | MLE 结果 |\n",
        "|---:|:---:|:---|\n",
        "| Bernoulli$(p)$ | $p$ | $\\displaystyle \\hat p=\\frac{1}{n}\\sum_{i=1}^n x_i$ |\n",
        "| Binomial$(m,p)$（有 $n$ 个样本，每个样本为 $m$ 次试验） | $p$ | $\\displaystyle \\hat p=\\frac{\\sum_{i=1}^n x_i}{n\\,m}$ |\n",
        "| Poisson$(\\lambda)$ | $\\lambda$ | $\\displaystyle \\hat\\lambda=\\frac{1}{n}\\sum_{i=1}^n x_i$ |\n",
        "| Exponential$(\\lambda)$（密度 $\\lambda e^{-\\lambda x}$） | $\\lambda$ | $\\displaystyle \\hat\\lambda=\\frac{1}{\\bar x}=\\frac{n}{\\sum x_i}$ |\n",
        "| Normal$(\\mu,\\sigma^2)$（$\\sigma^2$ 已知） | $\\mu$ | $\\displaystyle \\hat\\mu=\\bar x$ |\n",
        "| Normal$(\\mu,\\sigma^2)$（$\\mu,\\sigma^2$ 均未知） | $\\mu,\\sigma^2$ | $\\displaystyle \\hat\\mu=\\bar x,\\quad \\widehat{\\sigma}^2=\\frac{1}{n}\\sum (x_i-\\bar x)^2$ |\n",
        "\n",
        "---\n",
        "\n",
        "注意事项与小结\n",
        "- MLE 要求一定的正则性条件（可微性、可交换期望与微分等），边界值或不满足条件时可能失效或需特殊处理。  \n",
        "- 存在多个局部极大值时需要谨慎（数值优化时可能得到局部解）。  \n",
        "- 某些参数空间边界（例如 $p=0$ 或 $p=1$）上，MLE 可能取到边界值。  \n",
        "- 当解析解不存在时，使用数值优化（如 `scipy.optimize`，最大化对数似然）是常见做法。  \n",
        "- MLE 在小样本下可能有偏（例如 $\\sigma^2$ 的例子），需要根据需求选择是否修正为无偏估计。\n",
        "\n",
        "---\n"
      ]
    },
    {
      "cell_type": "markdown",
      "id": "8f8edf8a",
      "metadata": {},
      "source": [
        "##### 均方误差 (Mean Squared Error, MSE)\n",
        "\n",
        "衡量 **估计值与真实值之间差异** 的常用指标。  \n",
        "对于估计量 $\\hat{\\theta}$ 和真实参数 $\\theta$，MSE 定义为：\n",
        "$$\n",
        "\\mathrm{MSE}(\\hat{\\theta}) = \\mathbb{E}\\!\\left[(\\hat{\\theta}-\\theta)^2\\right].\n",
        "$$"
      ]
    },
    {
      "cell_type": "markdown",
      "id": "09a3eba1",
      "metadata": {},
      "source": [
        "#### AI\n",
        "##### 神经网络流程\n",
        "全连接神经网络（FCNN）和卷积神经网络（CNN）都属于前馈神经网络（FNN）的范畴，因为它们的核心特点是数据单向传播，没有循环或反馈连接。  \n",
        "  \n",
        "FNN / (CNN, FCNN)   \n",
        "  \n",
        "1. 网络结构设计\n",
        "- 确定 **网络层数**（输入层、隐藏层、输出层）。\n",
        "- 确定 **每层神经元数量**。\n",
        "- 选择 **激活函数**（如 sigmoid, ReLU, tanh）。\n",
        "- 定义 **输出形式**（回归 / 分类）。\n",
        "\n",
        "---\n",
        "\n",
        "2. 参数初始化\n",
        "- 随机初始化 **权重参数**（避免对称性问题）。\n",
        "- 初始化 **偏置参数**（通常为 0 或小常数）。\n",
        "- 常用方法：\n",
        "  - 均匀分布/高斯分布随机初始化。\n",
        "  - Xavier 初始化、He 初始化。\n",
        "\n",
        "---\n",
        "\n",
        "3. 前向传播（Forward Propagation）\n",
        "- 输入数据经过各层神经元的 **线性变换** 和 **非线性激活**。\n",
        "- 层层传递直到输出层。\n",
        "- 得到模型对输入样本的预测结果。\n",
        "\n",
        "$$ a^{(l)} = f(W^{(l)} a^{(l-1)} + b^{(l)}) $$\n",
        "\n",
        "---\n",
        "\n",
        "4. 损失函数计算\n",
        "- 衡量预测值与真实标签之间的差距。\n",
        "- 常见损失函数：\n",
        "  - 均方误差（MSE）：回归任务\n",
        "  - 交叉熵损失：分类任务\n",
        "\n",
        "例：交叉熵损失\n",
        "$$\n",
        "L = -\\sum_{i} y_i \\log \\hat{y}_i\n",
        "$$\n",
        "\n",
        "---\n",
        "\n",
        "5. 反向传播（Backpropagation）\n",
        "- 基于 **链式法则**，逐层计算损失函数对参数的偏导数。\n",
        "- 获得各层参数的 **梯度信息**。\n",
        "\n",
        "核心思想：\n",
        "$$\n",
        "\\frac{\\partial L}{\\partial W^{(l)}} = \\frac{\\partial L}{\\partial a^{(l)}} \\cdot \\frac{\\partial a^{(l)}}{\\partial W^{(l)}}\n",
        "$$\n",
        "\n",
        "---\n",
        "\n",
        "6. 参数更新（Optimization）\n",
        "- 使用优化算法，根据梯度更新参数。\n",
        "- 常见方法：\n",
        "  - **梯度下降（GD / SGD）**\n",
        "  - **动量法（Momentum）**\n",
        "  - **Adam 优化器**\n",
        "\n",
        "更新公式（以梯度下降为例）：\n",
        "$$\n",
        "\\theta = \\theta - \\eta \\nabla_{\\theta} L\n",
        "$$\n",
        "\n",
        "其中：\n",
        "- $\\theta$ 表示参数（权重、偏置）\n",
        "- $\\eta$ 表示学习率\n",
        "- $\\nabla_{\\theta} L$ 表示损失函数关于参数的梯度\n",
        "\n",
        "---\n",
        "\n",
        "7. 迭代与收敛\n",
        "- 重复 **前向传播 → 反向传播 → 参数更新** 的过程。\n",
        "- 直到：\n",
        "  - 达到预设的迭代次数 / 轮数（epoch）\n",
        "  - 或损失函数收敛到理想范围。\n",
        "\n",
        "---\n",
        "\n",
        "总结\n",
        "神经网络训练流程：\n",
        "**网络设计 → 参数初始化 → 前向传播 → 损失计算 → 反向传播 → 参数更新 → 迭代收敛**\n"
      ]
    },
    {
      "cell_type": "markdown",
      "id": "8c1fd710",
      "metadata": {},
      "source": [
        "##### 激活函数总结\n",
        "Sigmoid 函数\n",
        "$\n",
        "\\sigma(x) = \\frac{1}{1+e^{-x}}\n",
        "$\n",
        "- **取值范围**：$(0,1)$\n",
        "- **特点**：\n",
        "  - 平滑、连续可导\n",
        "  - 常用于二分类问题输出层\n",
        "- **优点**：\n",
        "  - 将输入压缩到 $(0,1)$ 区间，具有概率解释\n",
        "- **缺点**：\n",
        "  - 梯度消失问题（当 $|x|$ 很大时梯度趋近 0）\n",
        "  - 输出非零均值，影响梯度更新效率\n",
        "\n",
        "Tanh 函数（双曲正切）\n",
        "- **定义**：\n",
        "$\n",
        "\\tanh(x) = \\frac{e^x - e^{-x}}{e^x + e^{-x}}\n",
        "$\n",
        "\n",
        "- **取值范围**：$(-1,1)$\n",
        "- **特点**：\n",
        "  - 类似 Sigmoid，但中心在 0\n",
        "- **优点**：\n",
        "  - 输出均值为 0，收敛速度快于 Sigmoid\n",
        "- **缺点**：\n",
        "  - 依旧存在梯度消失问题\n",
        "  \n",
        "ReLU（Rectified Linear Unit）\n",
        "- **定义**：\n",
        "$$\n",
        "f(x) = \\max(0, x)\n",
        "$$\n",
        "\n",
        "- **取值范围**：$[0, +\\infty)$\n",
        "- **特点**：\n",
        "  - 线性分段函数，简单高效\n",
        "- **优点**：\n",
        "  - 计算简单，收敛快\n",
        "  - 缓解梯度消失问题\n",
        "- **缺点**：\n",
        "  - “神经元死亡”问题：部分神经元可能永远输出 0\n",
        "\n",
        "Leaky ReLU\n",
        "- **定义**：\n",
        "$$\n",
        "f(x) = \\begin{cases} \n",
        "x, & x \\geq 0 \\\\\n",
        "\\alpha x, & x < 0 \n",
        "\\end{cases}\n",
        "$$\n",
        "其中 $\\alpha$ 通常取一个很小的值（如 0.01）。\n",
        "\n",
        "- **特点**：\n",
        "  - 允许负数部分有小斜率，避免 ReLU 死亡问题\n",
        "\n",
        "Softmax 函数\n",
        "- **定义**：\n",
        "$$\n",
        "\\sigma(z)_i = \\frac{e^{z_i}}{\\sum_{j=1}^K e^{z_j}}, \\quad i=1,\\dots,K\n",
        "$$\n",
        "\n",
        "- **取值范围**：$(0,1)$，且所有输出和为 1\n",
        "- **特点**：\n",
        "  - 将向量映射为概率分布\n",
        "  - 常用于多分类问题输出层\n",
        "\n",
        "Swish 函数\n",
        "- **定义**：\n",
        "$$\n",
        "f(x) = x \\cdot \\sigma(x) = \\frac{x}{1+e^{-x}}\n",
        "$$\n",
        "\n",
        "- **优点**：\n",
        "  - 平滑、非单调，性能优于 ReLU\n",
        "  - 在深层网络中常有更好效果\n",
        "- **缺点**：\n",
        "  - 计算比 ReLU 复杂"
      ]
    },
    {
      "cell_type": "markdown",
      "id": "7482b9fb",
      "metadata": {},
      "source": [
        "##### 梯度消失和梯度爆炸\n",
        "\n",
        "在神经网络（尤其是深层网络或循环神经网络 RNN）训练中，采用 反向传播算法 更新参数时，梯度会在多层传播中逐渐变化。  \n",
        "如果梯度过小 → 梯度消失；  \n",
        "如果梯度过大 → 梯度爆炸。\n",
        "\n",
        "梯度消失 (Vanishing Gradient)  \n",
        "\n",
        "在反向传播中，梯度逐层相乘：\n",
        "$$\n",
        "\\frac{\\partial L}{\\partial W^{(l)}} = \\frac{\\partial L}{\\partial a^{(L)}} \\cdot \\prod_{k=l}^{L} \\frac{\\partial a^{(k)}}{\\partial a^{(k-1)}}\n",
        "$$\n",
        "\n",
        "若 $\\frac{\\partial a^{(k)}}{\\partial a^{(k-1)}} < 1$，梯度会指数级衰减，导致前层几乎得不到更新。\n",
        "\n",
        "典型原因\n",
        "- Sigmoid / Tanh 激活函数：导数最大值 < 1，容易导致梯度逐层缩小。\n",
        "- 深层网络：层数多，链式法则乘积趋于 0。\n",
        "\n",
        "危害\n",
        "- 前层网络几乎不更新\n",
        "- 学习速度极慢\n",
        "- 网络难以训练深层特征\n",
        "\n",
        "解决方法\n",
        "- 激活函数改进\n",
        "  - 使用 ReLU / Leaky ReLU / Swish 等，缓解梯度消失问题\n",
        "- 权重初始化\n",
        "  - Xavier 初始化（适合 Sigmoid/Tanh）\n",
        "  - He 初始化（适合 ReLU）\n",
        "- 网络结构改进\n",
        "  - 使用残差网络（ResNet），跳跃连接避免梯度衰减\n",
        "  - 使用 LSTM / GRU 改进 RNN，解决长依赖问题\n",
        "- 归一化\n",
        "  - Batch Normalization / Layer Normalization  \n",
        "  \n",
        "  \n",
        "**梯度爆炸 (Exploding Gradient)**  \n",
        "如果 $\\frac{\\partial a^{(k)}}{\\partial a^{(k-1)}} > 1$，梯度会指数级放大，导致数值溢出。\n",
        "\n",
        "典型原因\n",
        "- 权重初始化过大\n",
        "- 网络层数过深\n",
        "- RNN 中长序列传播\n",
        "\n",
        "危害\n",
        "- 权重更新幅度过大\n",
        "- 损失函数出现 NaN 或震荡\n",
        "- 模型无法收敛\n",
        "\n",
        "解决方法\n",
        "\n",
        "- 梯度裁剪 (Gradient Clipping)\n",
        "  - 将梯度限制在阈值范围内\n",
        "- 权重正则化\n",
        "  - 控制权重过大\n",
        "- 较小的学习率\n",
        "  - 避免参数大幅震荡\n",
        "\n",
        "\n"
      ]
    },
    {
      "cell_type": "markdown",
      "id": "cae0fb05",
      "metadata": {},
      "source": [
        "##### "
      ]
    },
    {
      "cell_type": "markdown",
      "id": "834ff011",
      "metadata": {},
      "source": []
    }
  ],
  "metadata": {
    "kernelspec": {
      "display_name": "base",
      "language": "python",
      "name": "python3"
    },
    "language_info": {
      "codemirror_mode": {
        "name": "ipython",
        "version": 3
      },
      "file_extension": ".py",
      "mimetype": "text/x-python",
      "name": "python",
      "nbconvert_exporter": "python",
      "pygments_lexer": "ipython3",
      "version": "3.9.7"
    }
  },
  "nbformat": 4,
  "nbformat_minor": 5
}
