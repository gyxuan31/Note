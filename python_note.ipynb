{
  "cells": [
    {
      "cell_type": "markdown",
      "id": "cf6adb0a",
      "metadata": {},
      "source": [
        "### List 列表"
      ]
    },
    {
      "cell_type": "code",
      "execution_count": 67,
      "id": "6a7a5448",
      "metadata": {},
      "outputs": [
        {
          "data": {
            "text/plain": [
              "[5, 4, 3, 2, 1]"
            ]
          },
          "execution_count": 67,
          "metadata": {},
          "output_type": "execute_result"
        }
      ],
      "source": [
        "# 翻转数组\n",
        "val = [1, 2, 3, 4, 5]\n",
        "val = val[::-1]\n",
        "val"
      ]
    },
    {
      "cell_type": "code",
      "execution_count": null,
      "id": "9c8a5e6b",
      "metadata": {},
      "outputs": [
        {
          "name": "stdout",
          "output_type": "stream",
          "text": [
            "[2]\n",
            "[1, 2]\n"
          ]
        }
      ],
      "source": [
        "# 切片：左闭右开\n",
        "p = [1, 2, 3, 4, 5]\n",
        "a = p[1:2]\n",
        "b = p[:2]\n",
        "print(a)\n",
        "print(b)"
      ]
    },
    {
      "cell_type": "code",
      "execution_count": null,
      "id": "6d464fcb",
      "metadata": {},
      "outputs": [
        {
          "data": {
            "text/plain": [
              "[1, 2, 3, 4, 5]"
            ]
          },
          "execution_count": 75,
          "metadata": {},
          "output_type": "execute_result"
        }
      ],
      "source": [
        "# 切片是深拷贝！\n",
        "p = [1, 2, 3, 4, 5]\n",
        "s = p[:]\n",
        "p[0] = 1\n",
        "s"
      ]
    },
    {
      "cell_type": "code",
      "execution_count": 80,
      "id": "5ee1d6cf",
      "metadata": {},
      "outputs": [
        {
          "name": "stdout",
          "output_type": "stream",
          "text": [
            "After append(10): [10]\n",
            "After insert(0, 5): [5, 10]\n",
            "After extend([15, 20, 25]): [5, 10, 15, 20, 25]\n"
          ]
        }
      ],
      "source": [
        "# Initialize an empty list\n",
        "a = []\n",
        "\n",
        "# Adding 10 to end of list\n",
        "a.append(10)  \n",
        "print(\"After append(10):\", a)  \n",
        "\n",
        "# Inserting 5 at index 0\n",
        "a.insert(0, 5)\n",
        "print(\"After insert(0, 5):\", a) \n",
        "\n",
        "# Adding multiple elements  [15, 20, 25] at the end\n",
        "a.extend([15, 20, 25])  \n",
        "print(\"After extend([15, 20, 25]):\", a)"
      ]
    },
    {
      "cell_type": "markdown",
      "id": "089f404d",
      "metadata": {},
      "source": [
        "### String 字符串"
      ]
    },
    {
      "cell_type": "code",
      "execution_count": 69,
      "id": "b1b63ec4",
      "metadata": {},
      "outputs": [
        {
          "name": "stdout",
          "output_type": "stream",
          "text": [
            "I am Learning\n",
            "Python String on GeeksforGeeks\n",
            "I'm a \n",
            "Geek\n"
          ]
        }
      ],
      "source": [
        "# If we need a string to span multiple lines then we can use triple quotes (''' or \"\"\").\n",
        "\n",
        "s = \"\"\"I am Learning\n",
        "Python String on GeeksforGeeks\"\"\"\n",
        "print(s)\n",
        "\n",
        "s = '''I'm a \n",
        "Geek'''\n",
        "print(s)"
      ]
    },
    {
      "cell_type": "code",
      "execution_count": 70,
      "id": "987ed405",
      "metadata": {},
      "outputs": [
        {
          "name": "stdout",
          "output_type": "stream",
          "text": [
            "skeeGrofskeeG\n"
          ]
        }
      ],
      "source": [
        "s = \"GeeksforGeeks\"\n",
        "\n",
        "# Reverse a string\n",
        "print(s[::-1])"
      ]
    },
    {
      "cell_type": "code",
      "execution_count": 71,
      "id": "190f260c",
      "metadata": {},
      "outputs": [
        {
          "name": "stdout",
          "output_type": "stream",
          "text": [
            "GeeksforGeeks\n"
          ]
        }
      ],
      "source": [
        "# Immutability\n",
        "s = \"geeksforGeeks\"\n",
        "\n",
        "# Trying to change the first character raises an error\n",
        "# s[0] = 'I'  # Uncommenting this line will cause a TypeError\n",
        "\n",
        "# Instead, create a new string\n",
        "s = \"G\" + s[1:]\n",
        "print(s)"
      ]
    },
    {
      "cell_type": "code",
      "execution_count": null,
      "id": "8c04c7e6",
      "metadata": {},
      "outputs": [
        {
          "name": "stdout",
          "output_type": "stream",
          "text": [
            "Hello geeks\n",
            "hello GeeksforGeeks\n"
          ]
        }
      ],
      "source": [
        "# Update - replace()\n",
        "s = \"hello geeks\"\n",
        "\n",
        "# Updating by creating a new string\n",
        "s1 = \"H\" + s[1:]\n",
        "\n",
        "# replacnig \"geeks\" with \"GeeksforGeeks\"\n",
        "s2 = s.replace(\"geeks\", \"GeeksforGeeks\")\n",
        "print(s1)\n",
        "print(s2)"
      ]
    },
    {
      "cell_type": "code",
      "execution_count": 73,
      "id": "87c1021a",
      "metadata": {},
      "outputs": [
        {
          "name": "stdout",
          "output_type": "stream",
          "text": [
            "HELLO WORLD\n",
            "hello world\n"
          ]
        }
      ],
      "source": [
        "# Upper and Lower\n",
        "s = \"Hello World\"\n",
        "\n",
        "print(s.upper())   # output: HELLO WORLD\n",
        "print(s.lower())   # output: hello world"
      ]
    },
    {
      "cell_type": "code",
      "execution_count": null,
      "id": "0dcc833d",
      "metadata": {},
      "outputs": [],
      "source": [
        "# strip()\n",
        "s = \"   Gfg   \"\n",
        "\n",
        "# Removes spaces from both ends\n",
        "print(s.strip())    "
      ]
    },
    {
      "cell_type": "code",
      "execution_count": 74,
      "id": "efad36c8",
      "metadata": {},
      "outputs": [
        {
          "name": "stdout",
          "output_type": "stream",
          "text": [
            "Hello World\n",
            "Hello Hello Hello \n"
          ]
        }
      ],
      "source": [
        "# Concatenating and Repeating Strings\n",
        "s1 = \"Hello\"\n",
        "s2 = \"World\"\n",
        "s3 = s1 + \" \" + s2\n",
        "print(s3)\n",
        "\n",
        "s4 = \"Hello \"\n",
        "print(s4 * 3)"
      ]
    },
    {
      "cell_type": "code",
      "execution_count": null,
      "id": "7aab50e7",
      "metadata": {},
      "outputs": [],
      "source": [
        "# f-strings\n",
        "name = \"Alice\"\n",
        "age = 22\n",
        "print(f\"Name: {name}, Age: {age}\")"
      ]
    },
    {
      "cell_type": "code",
      "execution_count": null,
      "id": "b19cdcc8",
      "metadata": {},
      "outputs": [],
      "source": [
        "# in\n",
        "s = \"GeeksforGeeks\"\n",
        "print(\"Geeks\" in s)\n",
        "print(\"GfG\" in s)"
      ]
    },
    {
      "cell_type": "markdown",
      "id": "3bbce419",
      "metadata": {},
      "source": [
        "### Deque 队列（右进左出 先进先出）"
      ]
    },
    {
      "cell_type": "code",
      "execution_count": 58,
      "metadata": {},
      "outputs": [],
      "source": [
        "from collections import deque\n",
        "dq = deque([10, 20, 30])"
      ]
    },
    {
      "cell_type": "code",
      "execution_count": 59,
      "metadata": {},
      "outputs": [
        {
          "data": {
            "text/plain": [
              "deque([10, 20, 30, 40])"
            ]
          },
          "execution_count": 59,
          "metadata": {},
          "output_type": "execute_result"
        }
      ],
      "source": [
        "# Add elements to the right\n",
        "a = dq.append(40)\n",
        "dq"
      ]
    },
    {
      "cell_type": "code",
      "execution_count": 60,
      "metadata": {},
      "outputs": [
        {
          "data": {
            "text/plain": [
              "deque([5, 10, 20, 30, 40])"
            ]
          },
          "execution_count": 60,
          "metadata": {},
          "output_type": "execute_result"
        }
      ],
      "source": [
        "# Add elements to the left\n",
        "dq.appendleft(5)\n",
        "dq  "
      ]
    },
    {
      "cell_type": "code",
      "execution_count": 61,
      "metadata": {},
      "outputs": [
        {
          "name": "stdout",
          "output_type": "stream",
          "text": [
            "After extend([50, 60, 70]): deque([5, 10, 20, 30, 40, 50, 60, 70])\n"
          ]
        }
      ],
      "source": [
        "# extend(iterable) Adds all elements from iterable to the right end of the deque.\n",
        "dq.extend([50, 60, 70]) \n",
        "print(\"After extend([50, 60, 70]):\", dq)"
      ]
    },
    {
      "cell_type": "code",
      "execution_count": 62,
      "metadata": {},
      "outputs": [
        {
          "name": "stdout",
          "output_type": "stream",
          "text": [
            "After extendleft([0, 5]): deque([5, 0, 5, 10, 20, 30, 40, 50, 60, 70])\n"
          ]
        }
      ],
      "source": [
        "# extendleft(iterable) (reversed order)\n",
        "dq.extendleft([0, 5])  \n",
        "print(\"After extendleft([0, 5]):\", dq)"
      ]
    },
    {
      "cell_type": "code",
      "execution_count": 63,
      "metadata": {},
      "outputs": [
        {
          "name": "stdout",
          "output_type": "stream",
          "text": [
            "After remove(20): deque([5, 0, 5, 10, 30, 40, 50, 60, 70])\n"
          ]
        }
      ],
      "source": [
        "# remove method\n",
        "dq.remove(20)\n",
        "print(\"After remove(20):\", dq)"
      ]
    },
    {
      "cell_type": "code",
      "execution_count": 64,
      "metadata": {},
      "outputs": [
        {
          "name": "stdout",
          "output_type": "stream",
          "text": [
            "deque([5, 0, 5, 10, 30, 40, 50, 60])\n",
            "70\n"
          ]
        }
      ],
      "source": [
        "# Remove elements from the right\n",
        "a = dq.pop()\n",
        "print(dq)\n",
        "print(a)"
      ]
    },
    {
      "cell_type": "code",
      "execution_count": 65,
      "metadata": {},
      "outputs": [
        {
          "name": "stdout",
          "output_type": "stream",
          "text": [
            "5\n",
            "After pop and popleft: deque([0, 5, 10, 30, 40, 50, 60])\n"
          ]
        }
      ],
      "source": [
        "# Remove elements from the left\n",
        "a = dq.popleft()  \n",
        "print(a)\n",
        "print(\"After pop and popleft:\", dq)"
      ]
    },
    {
      "cell_type": "code",
      "execution_count": 66,
      "metadata": {},
      "outputs": [
        {
          "name": "stdout",
          "output_type": "stream",
          "text": [
            "After clear(): deque([])\n"
          ]
        }
      ],
      "source": [
        "# clear() - Removes all elements from the deque\n",
        "dq.clear()  # deque: []\n",
        "print(\"After clear():\", dq)"
      ]
    },
    {
      "cell_type": "markdown",
      "id": "cc8b31b8",
      "metadata": {},
      "source": [
        "### 其他库"
      ]
    },
    {
      "cell_type": "code",
      "execution_count": null,
      "id": "36190e46",
      "metadata": {},
      "outputs": [
        {
          "data": {
            "text/plain": [
              "[0, 1]"
            ]
          },
          "execution_count": 68,
          "metadata": {},
          "output_type": "execute_result"
        }
      ],
      "source": [
        "# 深拷贝（改原数组值不影响现有值）\n",
        "import copy\n",
        "arr = [0, 1]\n",
        "deepcp = copy.deepcopy(arr)\n",
        "arr[0] = 5\n",
        "deepcp"
      ]
    }
  ],
  "metadata": {
    "kernelspec": {
      "display_name": "base",
      "language": "python",
      "name": "python3"
    },
    "language_info": {
      "codemirror_mode": {
        "name": "ipython",
        "version": 3
      },
      "file_extension": ".py",
      "mimetype": "text/x-python",
      "name": "python",
      "nbconvert_exporter": "python",
      "pygments_lexer": "ipython3",
      "version": "3.9.7"
    }
  },
  "nbformat": 4,
  "nbformat_minor": 5
}
