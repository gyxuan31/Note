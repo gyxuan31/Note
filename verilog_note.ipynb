{
 "cells": [
  {
   "cell_type": "markdown",
   "metadata": {},
   "source": [
    "### System verilog"
   ]
  },
  {
   "cell_type": "markdown",
   "metadata": {},
   "source": [
    "Basic Blocks:  \n",
    " -- NOT, AND, OR,   \n",
    " NOR (或非A↓B=¬(A∨B)，两个都为0时输出1),   \n",
    " XOR (异或，Exclusive OR，取值不同时为1),   \n",
    " XNOR (同或， Exclusive NOR，两个相同时为1)  \n",
    " -- Muxes 选择器  \n",
    " -- Flip-flops and registers 触发器和选择器  \n",
    "  \n",
    "Arthmetic Blocks:  \n",
    "  -- Adders  \n",
    "  -- Shifters  \n",
    "  -- Multipliers  \n",
    "  -- Encoders / Decoders  "
   ]
  },
  {
   "cell_type": "markdown",
   "metadata": {},
   "source": [
    "#### 数据类型\n",
    "wires  \n",
    "registers  \n",
    "  \n",
    "\\* 乘法  \n",
    "/ 除法  \n",
    "\\+ 加法  \n",
    "\\- 减法  \n",
    "% 求余  \n",
    "** 求幂  \n",
    "  \n",
    "! 逻辑非  \n",
    "&& 逻辑与  \n",
    "|| 逻辑或  \n",
    "  \n",
    "\\> 大于  \n",
    "< 小于  \n",
    "\\>= 大于等于\n",
    "<= 小于等于  \n",
    "== 等于  \n",
    "!= 不等于  \n",
    "=== case等于  \n",
    "!== case不等  \n",
    "  \n",
    "~ 按位非  \n",
    "& 按位与  \n",
    "| 按位或  \n",
    "^ 按位异或  \n",
    "~^ ^~ 按位同或  \n",
    "  \n",
    "逻辑计算公式 https://blog.csdn.net/xiongshuxian2019/article/details/104614229"
   ]
  },
  {
   "cell_type": "markdown",
   "metadata": {},
   "source": [
    "异或 A⊕B=(A∧¬B)∨(¬A∧B)=(A*¬B)+(¬A*B)  \n",
    "        =(A∨B)∧¬(A∧B)=(A+B)*¬(A*B)  \n",
    "同或 A⊙B=¬(A⊕B)  \n",
    "        =¬A*¬B+AB"
   ]
  },
  {
   "cell_type": "markdown",
   "metadata": {},
   "source": [
    "#### Setting Values\n",
    "assign  \n",
    "always  \n",
    "  -- always_comb: combinational logic, 任何输入改变时立即执行；左手边是wires  \n",
    "  -- always_ff @(posedge clock): 时序逻辑，positive edge of clock才会改变；left-hand side becomes flops"
   ]
  },
  {
   "cell_type": "markdown",
   "metadata": {},
   "source": [
    "#### Blocking vs. non-blocking\n",
    "blocking: = 顺序执行，combinational blocks, 组合逻辑（没有记忆，只取决于当前值）  \n",
    "non-blocking: <= 所有assignments并行执行, sequential blocks，时序逻辑（一个时钟到来时所有值一起更新）\n",
    "  \n",
    "always_comb + =  \n",
    "always_ff + <="
   ]
  }
 ],
 "metadata": {
  "language_info": {
   "name": "python"
  }
 },
 "nbformat": 4,
 "nbformat_minor": 2
}
