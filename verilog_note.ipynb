{
 "cells": [
  {
   "cell_type": "markdown",
   "metadata": {},
   "source": [
    "### System verilog"
   ]
  },
  {
   "cell_type": "markdown",
   "metadata": {},
   "source": [
    "Basic Blocks:  \n",
    " -- NOT, AND, OR, XOR...  \n",
    " -- Muxes 选择器  \n",
    " -- Flip-flops and registers 触发器和选择器  \n",
    "  \n",
    "Arthmetic Blocks:  \n",
    "  -- Adders  \n",
    "  -- Shifters  \n",
    "  -- Multipliers  \n",
    "  -- Encoders / Decoders  "
   ]
  },
  {
   "cell_type": "markdown",
   "metadata": {},
   "source": [
    "#### 数据类型\n",
    "wires  \n",
    "registers"
   ]
  },
  {
   "cell_type": "markdown",
   "metadata": {},
   "source": [
    "#### Setting Values\n",
    "assign  \n",
    "always  \n",
    "  -- always_comb: combinational logic, 任何输入改变时立即执行；左手边是wires  \n",
    "  -- always_ff @(posedge clock): 时序逻辑，positive edge of clock才会改变；left-hand side becomes flops"
   ]
  },
  {
   "cell_type": "markdown",
   "metadata": {},
   "source": [
    "#### Blocking vs. non-blocking\n",
    "blocking: = 顺序执行，combinational blocks, 组合逻辑（没有记忆，只取决于当前值）  \n",
    "non-blocking: <= 所有assignments并行执行, sequential blocks，时序逻辑（一个时钟到来时所有值一起更新）"
   ]
  }
 ],
 "metadata": {
  "language_info": {
   "name": "python"
  }
 },
 "nbformat": 4,
 "nbformat_minor": 2
}
